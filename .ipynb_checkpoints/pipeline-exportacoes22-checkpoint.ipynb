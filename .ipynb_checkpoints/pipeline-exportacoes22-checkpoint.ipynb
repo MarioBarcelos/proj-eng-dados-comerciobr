{
 "cells": [
  {
   "cell_type": "markdown",
   "id": "d33bfcc2",
   "metadata": {},
   "source": [
    "# Análise Exploratória de dados do Ministério da Economia "
   ]
  },
  {
   "cell_type": "markdown",
   "id": "62b235f8",
   "metadata": {},
   "source": [
    " Este projeto de Análise Exploratória de dados tem como objetivo responder algumas perguntas de negócios sobre as Importações no primeiro semestre de 2021 e 2022, como fonte de estudos, utilizo dados extraídos do <a href=\"https://www.gov.br/produtividade-e-comercio-exterior/pt-br/assuntos/comercio-exterior/estatisticas/base-de-dados-bruta\">Ministério da Economia.</a>\n",
    "\n",
    "Após a conclusão deste projeto, podemos responder as seguintes perguntas de negócios:\n",
    "- 01 - Qual é o valor total das Importações no período?\n",
    "- 02 - Qual foi o custo das Importações por Estado?\n",
    "- 03 - Qual foi o custo das Importações por Municípios?\n",
    "- 04 - Quais são os principais Remetentes das Importações?\n",
    "- 05 - Quais são os Produtos com Maiores Importações?"
   ]
  },
  {
   "cell_type": "markdown",
   "id": "2f532aff",
   "metadata": {},
   "source": [
    "### Importando Bibliotecas e Pacotes"
   ]
  },
  {
   "cell_type": "code",
   "execution_count": 1,
   "id": "714e4504",
   "metadata": {},
   "outputs": [],
   "source": [
    "import numpy as np\n",
    "import pandas as pd\n",
    "import csv\n",
    "import json\n",
    "from sklearn.feature_extraction.text import CountVectorizer"
   ]
  },
  {
   "cell_type": "code",
   "execution_count": null,
   "id": "08293522",
   "metadata": {},
   "outputs": [],
   "source": [
    "# Caso seja necessário faço uma conversão do arquivo tipo csv para jso\n",
    "base = {}\n",
    "with open(\"meses.csv\",\"r\", encoding='utf-8') as csvfile:\n",
    "    csvReader = csv.DictReader(csvfile)\n",
    "    for read in csvReader:\n",
    "        key = read['CO_MES']\n",
    "        base[key] = read['NO_MES']\n",
    "with open (\"meses.json\", 'w', encoding='utf-8') as jsonfile:\n",
    "    jsonfile.write(json.dumps(base, indent=4))"
   ]
  },
  {
   "cell_type": "markdown",
   "id": "67c12fe2",
   "metadata": {},
   "source": [
    "### Acessando os dados (ref.2021)"
   ]
  },
  {
   "cell_type": "code",
   "execution_count": 2,
   "id": "2319ad13",
   "metadata": {
    "scrolled": true
   },
   "outputs": [
    {
     "name": "stderr",
     "output_type": "stream",
     "text": [
      "/tmp/ipykernel_35374/1956096061.py:3: DtypeWarning: Columns (0,1,2,3,5,6,7) have mixed types. Specify dtype option on import or set low_memory=False.\n",
      "  dadosi21 = pd.read_csv(imp_21, names = ['Ano', 'Mês', 'Produtos', 'País(orig)', 'Estado(dest)', 'Município(dest)', 'KG_Liq', 'Total_em_Dólar'], sep = ';', encoding=\"utf-8-sig\", low_memory=True)\n"
     ]
    }
   ],
   "source": [
    "#(0) Faço a importação do arquivo csv a ser analisado, (1) crio um DataFrame(df) renomeando as colunas já existentes (2)e visualizo o início.\n",
    "imp_21 = \"IMP_2021_MUN.csv\"\n",
    "dadosi21 = pd.read_csv(imp_21, names = ['Ano', 'Mês', 'Produtos', 'País(orig)', 'Estado(dest)', 'Município(dest)', 'KG_Liq', 'Total_em_Dólar'], sep = ';', encoding=\"utf-8-sig\", low_memory=True)"
   ]
  },
  {
   "cell_type": "markdown",
   "id": "810bf590",
   "metadata": {},
   "source": [
    "### Acessando os dados (ref.2022)"
   ]
  },
  {
   "cell_type": "code",
   "execution_count": 3,
   "id": "5b6b7eb7",
   "metadata": {
    "scrolled": false
   },
   "outputs": [
    {
     "name": "stderr",
     "output_type": "stream",
     "text": [
      "/tmp/ipykernel_35374/1510667406.py:3: DtypeWarning: Columns (0,1,2,3,5,6,7) have mixed types. Specify dtype option on import or set low_memory=False.\n",
      "  dadosi22 = pd.read_csv(imp_22, names = ['Ano', 'Mês', 'Produtos', 'País(orig)', 'Estado(dest)', 'Município(dest)', 'KG_Liq', 'Total_em_Dólar'], sep = ';', encoding=\"utf-8-sig\", low_memory=True)\n"
     ]
    }
   ],
   "source": [
    "#(0) Faço a importação do arquivo csv a ser analisado, (1) crio um DataFrame(df) renomeando as colunas já existentes (2)e visualizo o início.\n",
    "imp_22 = \"IMP_2022_MUN.csv\"\n",
    "dadosi22 = pd.read_csv(imp_22, names = ['Ano', 'Mês', 'Produtos', 'País(orig)', 'Estado(dest)', 'Município(dest)', 'KG_Liq', 'Total_em_Dólar'], sep = ';', encoding=\"utf-8-sig\", low_memory=True)"
   ]
  },
  {
   "cell_type": "markdown",
   "id": "7fe837d9",
   "metadata": {},
   "source": [
    "### Acessando as nomeclaturas originais"
   ]
  },
  {
   "cell_type": "code",
   "execution_count": 4,
   "id": "366c2a73",
   "metadata": {},
   "outputs": [],
   "source": [
    "# Realizando a leitura dos arquivos já convertidos e carregando em uma variável\n",
    "with open(\"meses.json\", \"r\") as jsonMes:\n",
    "    meses = json.loads(jsonMes.read())\n",
    "with open(\"produtos.json\", \"r\") as jsonProdutos:\n",
    "    produtos = json.loads(jsonProdutos.read())\n",
    "with open(\"paises.json\", \"r\") as jsonPais:\n",
    "    paises = json.loads(jsonPais.read())\n",
    "with open(\"estadosBr.json\", \"r\") as jsonEstados:\n",
    "    estados = json.loads(jsonEstados.read())\n",
    "with open(\"municipios.json\", \"r\") as jsonMun:\n",
    "    municipios = json.loads(jsonMun.read())"
   ]
  },
  {
   "cell_type": "markdown",
   "id": "2cafa373",
   "metadata": {},
   "source": [
    "### Limpeza e Tratamento dos Dados (ref.2021)"
   ]
  },
  {
   "cell_type": "code",
   "execution_count": 5,
   "id": "13e92125",
   "metadata": {},
   "outputs": [],
   "source": [
    "# Altero o tipo de dados das colunas para utilização com o map\n",
    "dadosi21[\"Mês\"] = dadosi21[\"Mês\"].astype('string')\n",
    "dadosi21[\"Produtos\"] = dadosi21[\"Produtos\"].astype('string')\n",
    "dadosi21[\"País(orig)\"] = dadosi21[\"País(orig)\"].astype('string')\n",
    "dadosi21[\"Estado(dest)\"] = dadosi21[\"Estado(dest)\"].astype('string')\n",
    "dadosi21[\"Município(dest)\"] = dadosi21[\"Município(dest)\"].astype('string')"
   ]
  },
  {
   "cell_type": "code",
   "execution_count": 6,
   "id": "13515553",
   "metadata": {},
   "outputs": [],
   "source": [
    "# Com a função drop removo a coluna \"ano\" - e a linha \"0\".\n",
    "dadosi21.drop([\"Ano\"], axis=1, inplace=True)\n",
    "dadosi21.drop([0], inplace=True)\n",
    "\n",
    "# Por fim faço a remoção de duplicatas e valores NA\n",
    "dadosi21 = dadosi21.drop_duplicates()\n",
    "dadosi21 = dadosi21.dropna()"
   ]
  },
  {
   "cell_type": "code",
   "execution_count": 7,
   "id": "b0625627",
   "metadata": {},
   "outputs": [],
   "source": [
    "# Renomeio todas as colunas abaixo utilizando como valor de saída as Nomeclaturas originais\n",
    "dadosi21[\"Mês\"] = dadosi21[\"Mês\"].map(meses,na_action='ignore')\n",
    "dadosi21[\"Produtos\"] = dadosi21[\"Produtos\"].map(produtos,na_action='ignore')\n",
    "dadosi21[\"País(orig)\"] = dadosi21[\"País(orig)\"].map(paises,na_action='ignore')\n",
    "dadosi21[\"Estado(dest)\"] = dadosi21[\"Estado(dest)\"].map(estados,na_action='ignore')\n",
    "dadosi21[\"Município(dest)\"] = dadosi21[\"Município(dest)\"].map(municipios,na_action='ignore')"
   ]
  },
  {
   "cell_type": "code",
   "execution_count": 8,
   "id": "5fdc1ae7",
   "metadata": {},
   "outputs": [],
   "source": [
    "# Seleciono o período a ser analisado com a função loc (Jan,Fev,Mar,Abril,Maio,Junho) \n",
    "dadosi21 = dadosi21.loc[dadosi21['Mês'].isin(['Janeiro','Fevereiro','Março',\n",
    "                                              'Abril','Maio','Junho'])]"
   ]
  },
  {
   "cell_type": "code",
   "execution_count": 9,
   "id": "51ca13b5",
   "metadata": {},
   "outputs": [],
   "source": [
    "# Incluo o 'index' do pandas como propriedade do DF e reordeno o DF\n",
    "dadosi21[\"Id_Compra\"] = dadosi21.index\n",
    "dadosi21 = dadosi21[['Id_Compra','Município(dest)','Estado(dest)','País(orig)','Produtos',\n",
    "                     'Total_em_Dólar','KG_Liq','Mês']]"
   ]
  },
  {
   "cell_type": "code",
   "execution_count": 10,
   "id": "a2a5d894",
   "metadata": {},
   "outputs": [
    {
     "data": {
      "text/html": [
       "<div>\n",
       "<style scoped>\n",
       "    .dataframe tbody tr th:only-of-type {\n",
       "        vertical-align: middle;\n",
       "    }\n",
       "\n",
       "    .dataframe tbody tr th {\n",
       "        vertical-align: top;\n",
       "    }\n",
       "\n",
       "    .dataframe thead th {\n",
       "        text-align: right;\n",
       "    }\n",
       "</style>\n",
       "<table border=\"1\" class=\"dataframe\">\n",
       "  <thead>\n",
       "    <tr style=\"text-align: right;\">\n",
       "      <th></th>\n",
       "      <th>Id_Compra</th>\n",
       "      <th>Município(dest)</th>\n",
       "      <th>Estado(dest)</th>\n",
       "      <th>País(orig)</th>\n",
       "      <th>Produtos</th>\n",
       "      <th>Total_em_Dólar</th>\n",
       "      <th>KG_Liq</th>\n",
       "      <th>Mês</th>\n",
       "    </tr>\n",
       "  </thead>\n",
       "  <tbody>\n",
       "    <tr>\n",
       "      <th>2</th>\n",
       "      <td>2</td>\n",
       "      <td>Jaguariúna</td>\n",
       "      <td>São Paulo</td>\n",
       "      <td>China</td>\n",
       "      <td>Aparelhos emissores (transmissores) para radio...</td>\n",
       "      <td>3685</td>\n",
       "      <td>1</td>\n",
       "      <td>Abril</td>\n",
       "    </tr>\n",
       "    <tr>\n",
       "      <th>4</th>\n",
       "      <td>4</td>\n",
       "      <td>Indaiatuba</td>\n",
       "      <td>São Paulo</td>\n",
       "      <td>Estados Unidos</td>\n",
       "      <td>Tubos de borracha vulcanizada não endurecida, ...</td>\n",
       "      <td>207124</td>\n",
       "      <td>10417</td>\n",
       "      <td>Janeiro</td>\n",
       "    </tr>\n",
       "    <tr>\n",
       "      <th>7</th>\n",
       "      <td>7</td>\n",
       "      <td>Itajaí</td>\n",
       "      <td>Santa Catarina</td>\n",
       "      <td>China</td>\n",
       "      <td>Tecidos de fios de filamentos sintéticos, incl...</td>\n",
       "      <td>5610763</td>\n",
       "      <td>2070874</td>\n",
       "      <td>Março</td>\n",
       "    </tr>\n",
       "    <tr>\n",
       "      <th>9</th>\n",
       "      <td>9</td>\n",
       "      <td>Embu</td>\n",
       "      <td>São Paulo</td>\n",
       "      <td>Polônia</td>\n",
       "      <td>Tachas, pregos, percevejos e artefatos semelha...</td>\n",
       "      <td>14</td>\n",
       "      <td>0</td>\n",
       "      <td>Março</td>\n",
       "    </tr>\n",
       "    <tr>\n",
       "      <th>11</th>\n",
       "      <td>11</td>\n",
       "      <td>Ipatinga</td>\n",
       "      <td>Minas Gerais</td>\n",
       "      <td>China</td>\n",
       "      <td>Poliacetais, outros poliéteres e resinas epóxi...</td>\n",
       "      <td>99836</td>\n",
       "      <td>44000</td>\n",
       "      <td>Abril</td>\n",
       "    </tr>\n",
       "    <tr>\n",
       "      <th>...</th>\n",
       "      <td>...</td>\n",
       "      <td>...</td>\n",
       "      <td>...</td>\n",
       "      <td>...</td>\n",
       "      <td>...</td>\n",
       "      <td>...</td>\n",
       "      <td>...</td>\n",
       "      <td>...</td>\n",
       "    </tr>\n",
       "    <tr>\n",
       "      <th>1556165</th>\n",
       "      <td>1556165</td>\n",
       "      <td>Mafra</td>\n",
       "      <td>Santa Catarina</td>\n",
       "      <td>China</td>\n",
       "      <td>Adubos (fertilizantes) minerais ou químicos, c...</td>\n",
       "      <td>548565</td>\n",
       "      <td>2003425</td>\n",
       "      <td>Janeiro</td>\n",
       "    </tr>\n",
       "    <tr>\n",
       "      <th>1556166</th>\n",
       "      <td>1556166</td>\n",
       "      <td>Taubaté</td>\n",
       "      <td>São Paulo</td>\n",
       "      <td>Espanha</td>\n",
       "      <td>Barras e perfis, de outras ligas de aço; barra...</td>\n",
       "      <td>535</td>\n",
       "      <td>14</td>\n",
       "      <td>Março</td>\n",
       "    </tr>\n",
       "    <tr>\n",
       "      <th>1556167</th>\n",
       "      <td>1556167</td>\n",
       "      <td>Barueri</td>\n",
       "      <td>São Paulo</td>\n",
       "      <td>Coreia do Sul</td>\n",
       "      <td>Espelhos de vidro, mesmo emoldurados, incluído...</td>\n",
       "      <td>5555</td>\n",
       "      <td>116</td>\n",
       "      <td>Maio</td>\n",
       "    </tr>\n",
       "    <tr>\n",
       "      <th>1556168</th>\n",
       "      <td>1556168</td>\n",
       "      <td>Betim</td>\n",
       "      <td>Minas Gerais</td>\n",
       "      <td>China</td>\n",
       "      <td>Outras formas (por exemplo: varetas, tubos, pe...</td>\n",
       "      <td>581</td>\n",
       "      <td>8</td>\n",
       "      <td>Maio</td>\n",
       "    </tr>\n",
       "    <tr>\n",
       "      <th>1556169</th>\n",
       "      <td>1556169</td>\n",
       "      <td>Araucária</td>\n",
       "      <td>Paraná</td>\n",
       "      <td>Estados Unidos</td>\n",
       "      <td>Cloretos, oxicloretos e hidroxicloretos; brome...</td>\n",
       "      <td>14293</td>\n",
       "      <td>16200</td>\n",
       "      <td>Fevereiro</td>\n",
       "    </tr>\n",
       "  </tbody>\n",
       "</table>\n",
       "<p>772039 rows × 8 columns</p>\n",
       "</div>"
      ],
      "text/plain": [
       "         Id_Compra Município(dest)    Estado(dest)      País(orig)  \\\n",
       "2                2      Jaguariúna       São Paulo           China   \n",
       "4                4      Indaiatuba       São Paulo  Estados Unidos   \n",
       "7                7          Itajaí  Santa Catarina           China   \n",
       "9                9            Embu       São Paulo         Polônia   \n",
       "11              11        Ipatinga    Minas Gerais           China   \n",
       "...            ...             ...             ...             ...   \n",
       "1556165    1556165           Mafra  Santa Catarina           China   \n",
       "1556166    1556166         Taubaté       São Paulo         Espanha   \n",
       "1556167    1556167         Barueri       São Paulo   Coreia do Sul   \n",
       "1556168    1556168           Betim    Minas Gerais           China   \n",
       "1556169    1556169       Araucária          Paraná  Estados Unidos   \n",
       "\n",
       "                                                  Produtos Total_em_Dólar  \\\n",
       "2        Aparelhos emissores (transmissores) para radio...           3685   \n",
       "4        Tubos de borracha vulcanizada não endurecida, ...         207124   \n",
       "7        Tecidos de fios de filamentos sintéticos, incl...        5610763   \n",
       "9        Tachas, pregos, percevejos e artefatos semelha...             14   \n",
       "11       Poliacetais, outros poliéteres e resinas epóxi...          99836   \n",
       "...                                                    ...            ...   \n",
       "1556165  Adubos (fertilizantes) minerais ou químicos, c...         548565   \n",
       "1556166  Barras e perfis, de outras ligas de aço; barra...            535   \n",
       "1556167  Espelhos de vidro, mesmo emoldurados, incluído...           5555   \n",
       "1556168  Outras formas (por exemplo: varetas, tubos, pe...            581   \n",
       "1556169  Cloretos, oxicloretos e hidroxicloretos; brome...          14293   \n",
       "\n",
       "          KG_Liq        Mês  \n",
       "2              1      Abril  \n",
       "4          10417    Janeiro  \n",
       "7        2070874      Março  \n",
       "9              0      Março  \n",
       "11         44000      Abril  \n",
       "...          ...        ...  \n",
       "1556165  2003425    Janeiro  \n",
       "1556166       14      Março  \n",
       "1556167      116       Maio  \n",
       "1556168        8       Maio  \n",
       "1556169    16200  Fevereiro  \n",
       "\n",
       "[772039 rows x 8 columns]"
      ]
     },
     "execution_count": 10,
     "metadata": {},
     "output_type": "execute_result"
    }
   ],
   "source": [
    "dadosi21"
   ]
  },
  {
   "cell_type": "markdown",
   "id": "1f0f23fc",
   "metadata": {},
   "source": [
    "### Limpeza e Tratamento dos Dados (ref.2022)"
   ]
  },
  {
   "cell_type": "code",
   "execution_count": 11,
   "id": "e3655e47",
   "metadata": {},
   "outputs": [],
   "source": [
    "# Altero o tipo de dados das colunas para utilização com o map\n",
    "dadosi22[\"Mês\"] = dadosi22[\"Mês\"].astype('string')\n",
    "dadosi22[\"Produtos\"] = dadosi22[\"Produtos\"].astype('string')\n",
    "dadosi22[\"País(orig)\"] = dadosi22[\"País(orig)\"].astype('string')\n",
    "dadosi22[\"Estado(dest)\"] = dadosi22[\"Estado(dest)\"].astype('string')\n",
    "dadosi22[\"Município(dest)\"] = dadosi22[\"Município(dest)\"].astype('string')"
   ]
  },
  {
   "cell_type": "code",
   "execution_count": 12,
   "id": "c7b0518a",
   "metadata": {},
   "outputs": [],
   "source": [
    "# Com a função drop removo a coluna \"ano\" e a linha \"0\".\n",
    "dadosi22.drop([\"Ano\"], axis=1, inplace=True)\n",
    "dadosi22.drop([0], inplace=True)\n",
    "\n",
    "# Por fim faço a remoção de duplicatas e valores NA\n",
    "dadosi22 = dadosi22.drop_duplicates()\n",
    "dadosi22 = dadosi22.dropna()"
   ]
  },
  {
   "cell_type": "code",
   "execution_count": 13,
   "id": "eb516f18",
   "metadata": {},
   "outputs": [],
   "source": [
    "# Renomeio todas as colunas abaixo utilizando como valor de saída as Nomeclaturas originais\n",
    "dadosi22[\"Mês\"] = dadosi22[\"Mês\"].map(meses,na_action='ignore')\n",
    "dadosi22[\"Produtos\"] = dadosi22[\"Produtos\"].map(produtos,na_action='ignore')\n",
    "dadosi22[\"País(orig)\"] = dadosi22[\"País(orig)\"].map(paises,na_action='ignore')\n",
    "dadosi22[\"Estado(dest)\"] = dadosi22[\"Estado(dest)\"].map(estados,na_action='ignore')\n",
    "dadosi22[\"Município(dest)\"] = dadosi22[\"Município(dest)\"].map(municipios,na_action='ignore')"
   ]
  },
  {
   "cell_type": "code",
   "execution_count": 14,
   "id": "61a7a669",
   "metadata": {},
   "outputs": [],
   "source": [
    "# Seleciono o período a ser analisado com a função loc (Jan,Fev,Mar,Abril,Maio,Junho) \n",
    "dadosi22 = dadosi22.loc[dadosi22['Mês'].isin(['Janeiro','Fevereiro','Março',\n",
    "                                              'Abril','Maio','Junho'])]"
   ]
  },
  {
   "cell_type": "code",
   "execution_count": 15,
   "id": "09483346",
   "metadata": {},
   "outputs": [],
   "source": [
    "# Incluo o 'index' do pandas como propriedade do DF e reordeno o DF\n",
    "dadosi22[\"Id_Compra\"] = dadosi22.index\n",
    "dadosi22 = dadosi22[['Id_Compra','Município(dest)','Estado(dest)','País(orig)','Produtos',\n",
    "                     'Total_em_Dólar','KG_Liq','Mês']]"
   ]
  },
  {
   "cell_type": "code",
   "execution_count": 16,
   "id": "cc2ff970",
   "metadata": {},
   "outputs": [
    {
     "data": {
      "text/html": [
       "<div>\n",
       "<style scoped>\n",
       "    .dataframe tbody tr th:only-of-type {\n",
       "        vertical-align: middle;\n",
       "    }\n",
       "\n",
       "    .dataframe tbody tr th {\n",
       "        vertical-align: top;\n",
       "    }\n",
       "\n",
       "    .dataframe thead th {\n",
       "        text-align: right;\n",
       "    }\n",
       "</style>\n",
       "<table border=\"1\" class=\"dataframe\">\n",
       "  <thead>\n",
       "    <tr style=\"text-align: right;\">\n",
       "      <th></th>\n",
       "      <th>Id_Compra</th>\n",
       "      <th>Município(dest)</th>\n",
       "      <th>Estado(dest)</th>\n",
       "      <th>País(orig)</th>\n",
       "      <th>Produtos</th>\n",
       "      <th>Total_em_Dólar</th>\n",
       "      <th>KG_Liq</th>\n",
       "      <th>Mês</th>\n",
       "    </tr>\n",
       "  </thead>\n",
       "  <tbody>\n",
       "    <tr>\n",
       "      <th>1</th>\n",
       "      <td>1</td>\n",
       "      <td>São Bernardo do Campo</td>\n",
       "      <td>São Paulo</td>\n",
       "      <td>Tcheca, República</td>\n",
       "      <td>Outros motores e máquinas motrizes</td>\n",
       "      <td>26472</td>\n",
       "      <td>1553</td>\n",
       "      <td>Maio</td>\n",
       "    </tr>\n",
       "    <tr>\n",
       "      <th>2</th>\n",
       "      <td>2</td>\n",
       "      <td>Carlos Barbosa</td>\n",
       "      <td>Rio Grande do Sul</td>\n",
       "      <td>Alemanha</td>\n",
       "      <td>Instrumentos, aparelhos e máquinas de medida o...</td>\n",
       "      <td>9418</td>\n",
       "      <td>350</td>\n",
       "      <td>Maio</td>\n",
       "    </tr>\n",
       "    <tr>\n",
       "      <th>3</th>\n",
       "      <td>3</td>\n",
       "      <td>São Paulo</td>\n",
       "      <td>São Paulo</td>\n",
       "      <td>Estados Unidos</td>\n",
       "      <td>Bombas para líquidos, mesmo com dispositivo me...</td>\n",
       "      <td>316863</td>\n",
       "      <td>2547</td>\n",
       "      <td>Janeiro</td>\n",
       "    </tr>\n",
       "    <tr>\n",
       "      <th>4</th>\n",
       "      <td>4</td>\n",
       "      <td>Chapecó</td>\n",
       "      <td>Santa Catarina</td>\n",
       "      <td>Itália</td>\n",
       "      <td>Refrigeradores, congeladores (freezers) e outr...</td>\n",
       "      <td>169432</td>\n",
       "      <td>11290</td>\n",
       "      <td>Março</td>\n",
       "    </tr>\n",
       "    <tr>\n",
       "      <th>5</th>\n",
       "      <td>5</td>\n",
       "      <td>Curitiba</td>\n",
       "      <td>Paraná</td>\n",
       "      <td>Suíça</td>\n",
       "      <td>Parafusos, pernos ou pinos, roscados, porcas, ...</td>\n",
       "      <td>106388</td>\n",
       "      <td>2756</td>\n",
       "      <td>Janeiro</td>\n",
       "    </tr>\n",
       "    <tr>\n",
       "      <th>...</th>\n",
       "      <td>...</td>\n",
       "      <td>...</td>\n",
       "      <td>...</td>\n",
       "      <td>...</td>\n",
       "      <td>...</td>\n",
       "      <td>...</td>\n",
       "      <td>...</td>\n",
       "      <td>...</td>\n",
       "    </tr>\n",
       "    <tr>\n",
       "      <th>630790</th>\n",
       "      <td>630790</td>\n",
       "      <td>Guaratinguetá</td>\n",
       "      <td>São Paulo</td>\n",
       "      <td>China</td>\n",
       "      <td>Suportes preparados para gravação de som ou pa...</td>\n",
       "      <td>67</td>\n",
       "      <td>0</td>\n",
       "      <td>Abril</td>\n",
       "    </tr>\n",
       "    <tr>\n",
       "      <th>630791</th>\n",
       "      <td>630791</td>\n",
       "      <td>Osasco</td>\n",
       "      <td>São Paulo</td>\n",
       "      <td>Itália</td>\n",
       "      <td>Fornos elétricos industriais ou de laboratório...</td>\n",
       "      <td>14207</td>\n",
       "      <td>900</td>\n",
       "      <td>Abril</td>\n",
       "    </tr>\n",
       "    <tr>\n",
       "      <th>630792</th>\n",
       "      <td>630792</td>\n",
       "      <td>Mogi Guaçu</td>\n",
       "      <td>São Paulo</td>\n",
       "      <td>Itália</td>\n",
       "      <td>Partes reconhecíveis como exclusiva ou princip...</td>\n",
       "      <td>2006</td>\n",
       "      <td>17</td>\n",
       "      <td>Maio</td>\n",
       "    </tr>\n",
       "    <tr>\n",
       "      <th>630793</th>\n",
       "      <td>630793</td>\n",
       "      <td>Telêmaco Borba</td>\n",
       "      <td>Paraná</td>\n",
       "      <td>NaN</td>\n",
       "      <td>Partes reconhecíveis como exclusiva ou princip...</td>\n",
       "      <td>269</td>\n",
       "      <td>0</td>\n",
       "      <td>Abril</td>\n",
       "    </tr>\n",
       "    <tr>\n",
       "      <th>630794</th>\n",
       "      <td>630794</td>\n",
       "      <td>Cotia</td>\n",
       "      <td>São Paulo</td>\n",
       "      <td>China</td>\n",
       "      <td>Partes e acessórios reconhecíveis como exclusi...</td>\n",
       "      <td>15333</td>\n",
       "      <td>939</td>\n",
       "      <td>Fevereiro</td>\n",
       "    </tr>\n",
       "  </tbody>\n",
       "</table>\n",
       "<p>630794 rows × 8 columns</p>\n",
       "</div>"
      ],
      "text/plain": [
       "        Id_Compra        Município(dest)       Estado(dest)  \\\n",
       "1               1  São Bernardo do Campo          São Paulo   \n",
       "2               2         Carlos Barbosa  Rio Grande do Sul   \n",
       "3               3              São Paulo          São Paulo   \n",
       "4               4                Chapecó     Santa Catarina   \n",
       "5               5               Curitiba             Paraná   \n",
       "...           ...                    ...                ...   \n",
       "630790     630790          Guaratinguetá          São Paulo   \n",
       "630791     630791                 Osasco          São Paulo   \n",
       "630792     630792             Mogi Guaçu          São Paulo   \n",
       "630793     630793         Telêmaco Borba             Paraná   \n",
       "630794     630794                  Cotia          São Paulo   \n",
       "\n",
       "               País(orig)                                           Produtos  \\\n",
       "1       Tcheca, República                 Outros motores e máquinas motrizes   \n",
       "2                Alemanha  Instrumentos, aparelhos e máquinas de medida o...   \n",
       "3          Estados Unidos  Bombas para líquidos, mesmo com dispositivo me...   \n",
       "4                  Itália  Refrigeradores, congeladores (freezers) e outr...   \n",
       "5                   Suíça  Parafusos, pernos ou pinos, roscados, porcas, ...   \n",
       "...                   ...                                                ...   \n",
       "630790              China  Suportes preparados para gravação de som ou pa...   \n",
       "630791             Itália  Fornos elétricos industriais ou de laboratório...   \n",
       "630792             Itália  Partes reconhecíveis como exclusiva ou princip...   \n",
       "630793                NaN  Partes reconhecíveis como exclusiva ou princip...   \n",
       "630794              China  Partes e acessórios reconhecíveis como exclusi...   \n",
       "\n",
       "       Total_em_Dólar KG_Liq        Mês  \n",
       "1               26472   1553       Maio  \n",
       "2                9418    350       Maio  \n",
       "3              316863   2547    Janeiro  \n",
       "4              169432  11290      Março  \n",
       "5              106388   2756    Janeiro  \n",
       "...               ...    ...        ...  \n",
       "630790             67      0      Abril  \n",
       "630791          14207    900      Abril  \n",
       "630792           2006     17       Maio  \n",
       "630793            269      0      Abril  \n",
       "630794          15333    939  Fevereiro  \n",
       "\n",
       "[630794 rows x 8 columns]"
      ]
     },
     "execution_count": 16,
     "metadata": {},
     "output_type": "execute_result"
    }
   ],
   "source": [
    "dadosi22"
   ]
  },
  {
   "cell_type": "markdown",
   "id": "15e009d7",
   "metadata": {},
   "source": [
    "> # Iniciando a Análise Exploratória"
   ]
  },
  {
   "cell_type": "markdown",
   "id": "095fc032",
   "metadata": {},
   "source": [
    "### Qual é o valor total das Importações no período?"
   ]
  },
  {
   "cell_type": "markdown",
   "id": "53f818fa",
   "metadata": {},
   "source": [
    "Informações sobre o custo das Importações (Comercio Exterior -> Brasil) e o total de operações."
   ]
  },
  {
   "cell_type": "code",
   "execution_count": 17,
   "id": "ffe77311",
   "metadata": {
    "scrolled": true
   },
   "outputs": [],
   "source": [
    "# Altero o tipo das colunas que serão utilizadas\n",
    "dadosi21['Total_em_Dólar'] = dadosi21['Total_em_Dólar'].astype('int')\n",
    "dadosi22['Total_em_Dólar'] = dadosi22['Total_em_Dólar'].astype('int')"
   ]
  },
  {
   "cell_type": "code",
   "execution_count": 18,
   "id": "820d4a71",
   "metadata": {},
   "outputs": [],
   "source": [
    "# Calculando os valores das importações de 2021\n",
    "despesa_total21 = dadosi21[\"Total_em_Dólar\"].sum()\n",
    "despesa_count21 = dadosi21[\"Total_em_Dólar\"].count()\n",
    "despesa_media21 = dadosi21[\"Total_em_Dólar\"].mean()"
   ]
  },
  {
   "cell_type": "code",
   "execution_count": 19,
   "id": "48f34aaf",
   "metadata": {},
   "outputs": [],
   "source": [
    "# Calculando os valores das importações 2022\n",
    "despesa_total22 = dadosi22[\"Total_em_Dólar\"].sum()\n",
    "despesa_count22 = dadosi22[\"Total_em_Dólar\"].count()\n",
    "despesa_media22 = dadosi22[\"Total_em_Dólar\"].mean()"
   ]
  },
  {
   "cell_type": "code",
   "execution_count": 20,
   "id": "b8e779b8",
   "metadata": {},
   "outputs": [],
   "source": [
    "# Crio um dataframe utilizando o \"pandas\"\n",
    "despesas21e22 = pd.DataFrame({\"Ano_Base\": [\"2021\", \"2022\"],\n",
    "                            \"Total de Transações\": (despesa_count21, despesa_count22),\n",
    "                            \"Total Investido em Importações\": (despesa_total21, despesa_total22),\n",
    "                            \"Valor médio das Importações\": (despesa_media21, despesa_media22)})\n",
    "# Incluo uma coluna no meu DF com passando o 'Index'\n",
    "despesas21e22[\"Despesas21e22_id\"] = despesas21e22.index"
   ]
  },
  {
   "cell_type": "code",
   "execution_count": 21,
   "id": "b384961c",
   "metadata": {
    "scrolled": true
   },
   "outputs": [],
   "source": [
    "# Edito a formatação numérica das colunas \n",
    "despesas21e22 [\"Total de Transações\"] = despesas21e22[\"Total de Transações\"].map(\"{:,.0f}\".format)\n",
    "despesas21e22 [\"Total Investido em Importações\"] = despesas21e22[\"Total Investido em Importações\"].map(\"${:,.2f}\".format)\n",
    "despesas21e22 [\"Valor médio das Importações\"] = despesas21e22[\"Valor médio das Importações\"].map(\"${:,.2f}\".format)"
   ]
  },
  {
   "cell_type": "code",
   "execution_count": 22,
   "id": "6ac5333f",
   "metadata": {},
   "outputs": [],
   "source": [
    "# Faço uma 'Reordenação' do DF\n",
    "despesas21e22 = despesas21e22[['Despesas21e22_id','Ano_Base','Total de Transações',\n",
    "                               'Total Investido em Importações','Valor médio das Importações']]"
   ]
  },
  {
   "cell_type": "code",
   "execution_count": 23,
   "id": "d091e4f1",
   "metadata": {
    "scrolled": true
   },
   "outputs": [
    {
     "data": {
      "text/html": [
       "<div>\n",
       "<style scoped>\n",
       "    .dataframe tbody tr th:only-of-type {\n",
       "        vertical-align: middle;\n",
       "    }\n",
       "\n",
       "    .dataframe tbody tr th {\n",
       "        vertical-align: top;\n",
       "    }\n",
       "\n",
       "    .dataframe thead th {\n",
       "        text-align: right;\n",
       "    }\n",
       "</style>\n",
       "<table border=\"1\" class=\"dataframe\">\n",
       "  <thead>\n",
       "    <tr style=\"text-align: right;\">\n",
       "      <th></th>\n",
       "      <th>Despesas21e22_id</th>\n",
       "      <th>Ano_Base</th>\n",
       "      <th>Total de Transações</th>\n",
       "      <th>Total Investido em Importações</th>\n",
       "      <th>Valor médio das Importações</th>\n",
       "    </tr>\n",
       "  </thead>\n",
       "  <tbody>\n",
       "    <tr>\n",
       "      <th>0</th>\n",
       "      <td>0</td>\n",
       "      <td>2021</td>\n",
       "      <td>772,039</td>\n",
       "      <td>$99,176,454,736.00</td>\n",
       "      <td>$128,460.42</td>\n",
       "    </tr>\n",
       "    <tr>\n",
       "      <th>1</th>\n",
       "      <td>1</td>\n",
       "      <td>2022</td>\n",
       "      <td>630,794</td>\n",
       "      <td>$105,951,639,402.00</td>\n",
       "      <td>$167,965.52</td>\n",
       "    </tr>\n",
       "  </tbody>\n",
       "</table>\n",
       "</div>"
      ],
      "text/plain": [
       "   Despesas21e22_id Ano_Base Total de Transações  \\\n",
       "0                 0     2021             772,039   \n",
       "1                 1     2022             630,794   \n",
       "\n",
       "  Total Investido em Importações Valor médio das Importações  \n",
       "0             $99,176,454,736.00                 $128,460.42  \n",
       "1            $105,951,639,402.00                 $167,965.52  "
      ]
     },
     "execution_count": 23,
     "metadata": {},
     "output_type": "execute_result"
    }
   ],
   "source": [
    "despesas21e22"
   ]
  },
  {
   "cell_type": "markdown",
   "id": "ae5fe4e4",
   "metadata": {},
   "source": [
    "## Qual foi o custo das Importações por Estado?"
   ]
  },
  {
   "cell_type": "markdown",
   "id": "ec062629",
   "metadata": {},
   "source": [
    "Faço um resumo do custo das Importações por Estado, comparando os dois periódos."
   ]
  },
  {
   "cell_type": "markdown",
   "id": "cab70795",
   "metadata": {},
   "source": [
    "### Ano 2021"
   ]
  },
  {
   "cell_type": "code",
   "execution_count": 24,
   "id": "9026f1b3",
   "metadata": {
    "scrolled": true
   },
   "outputs": [],
   "source": [
    "# Inicio agrupando os valores/operações de cada estado e realizo os devidos calculos\n",
    "uf_total21 = dadosi21.groupby('Estado(dest)')['Total_em_Dólar'].sum()\n",
    "uf_media21 = dadosi21.groupby(\"Estado(dest)\")[\"Total_em_Dólar\"].mean()\n",
    "uf_operacoes21 = dadosi21.groupby(\"Estado(dest)\")[\"Total_em_Dólar\"].count()"
   ]
  },
  {
   "cell_type": "code",
   "execution_count": 25,
   "id": "c097a9bf",
   "metadata": {},
   "outputs": [],
   "source": [
    "# Crio um DataFrame para armazenar os Valores agrupados\n",
    "uf_analises21 = pd.DataFrame({\"Número de Transações\" : uf_operacoes21,\n",
    "                              \"Valor médio das Importações\" : uf_media21,\n",
    "                              \"Valor total das Importações\" : uf_total21})\n",
    "\n",
    "#  Incluo uma coluna no meu DF com passando o 'Index'\n",
    "uf_analises21[\"Uf_analises21_id\"] = uf_analises21.index"
   ]
  },
  {
   "cell_type": "code",
   "execution_count": 26,
   "id": "c92dd642",
   "metadata": {
    "scrolled": true
   },
   "outputs": [],
   "source": [
    "# Edito a formatação numérica dos dados\n",
    "uf_analises21 = uf_analises21.round(2)\n",
    "uf_analises21 [\"Valor médio das Importações\"] = uf_analises21[\"Valor médio das Importações\"].map(\"${:,.2f}\".format)\n",
    "uf_analises21 [\"Valor total das Importações\"] = uf_analises21[\"Valor total das Importações\"].map(\"${:,.2f}\".format)"
   ]
  },
  {
   "cell_type": "code",
   "execution_count": 27,
   "id": "b49c9cd1",
   "metadata": {},
   "outputs": [],
   "source": [
    "# Faço uma 'Reordenação' do DF\n",
    "uf_analises21 = uf_analises21[['Uf_analises21_id','Número de Transações','Valor total das Importações',\n",
    "                               'Valor médio das Importações']]"
   ]
  },
  {
   "cell_type": "markdown",
   "id": "79ad7cd7",
   "metadata": {},
   "source": [
    "### Ano 2022"
   ]
  },
  {
   "cell_type": "code",
   "execution_count": 28,
   "id": "16ee303d",
   "metadata": {},
   "outputs": [],
   "source": [
    "# Inicio agrupando os valores/operações de cada estado e realizo os devidos calculos\n",
    "uf_total22 = dadosi22.groupby('Estado(dest)')['Total_em_Dólar'].sum()\n",
    "uf_media22 = dadosi22.groupby(\"Estado(dest)\")[\"Total_em_Dólar\"].mean()\n",
    "uf_operacoes22 = dadosi22.groupby(\"Estado(dest)\")[\"Total_em_Dólar\"].count()"
   ]
  },
  {
   "cell_type": "code",
   "execution_count": 29,
   "id": "fd3d7bc3",
   "metadata": {},
   "outputs": [],
   "source": [
    "# Crio um DataFrame para armazenar os Valores agrupados\n",
    "uf_analises22 = pd.DataFrame({\"Número de Transações\" : uf_operacoes22,\n",
    "                              \"Valor médio das Importações\" : uf_media22,\n",
    "                              \"Valor total das Importações\" : uf_total22})\n",
    "\n",
    "#  Incluo uma coluna no meu DF com passando o 'Index'\n",
    "uf_analises22[\"Uf_analises22_id\"] = uf_analises22.index"
   ]
  },
  {
   "cell_type": "code",
   "execution_count": 30,
   "id": "ee8eabb3",
   "metadata": {},
   "outputs": [],
   "source": [
    "# Edito a formatação numérica dos dados\n",
    "uf_analises22 = uf_analises22.round(2)\n",
    "uf_analises22 [\"Valor médio das Importações\"] = uf_analises22[\"Valor médio das Importações\"].map(\"${:,.2f}\".format)\n",
    "uf_analises22 [\"Valor total das Importações\"] = uf_analises22[\"Valor total das Importações\"].map(\"${:,.2f}\".format)"
   ]
  },
  {
   "cell_type": "code",
   "execution_count": 31,
   "id": "ece80dd4",
   "metadata": {},
   "outputs": [],
   "source": [
    "# Faço uma 'Reordenação' do DF\n",
    "uf_analises22 = uf_analises22[['Uf_analises22_id','Número de Transações','Valor total das Importações',\n",
    "                               'Valor médio das Importações']]"
   ]
  },
  {
   "cell_type": "code",
   "execution_count": 32,
   "id": "e11127e5",
   "metadata": {
    "scrolled": true
   },
   "outputs": [],
   "source": [
    "# Crio um novo DF 'concatenando' os dois períodos analizados \n",
    "uf_analises2122 = pd.concat([uf_analises21,uf_analises22],\n",
    "                             keys=['Ano 2021','Ano 2022'], axis=1)"
   ]
  },
  {
   "cell_type": "code",
   "execution_count": 33,
   "id": "1b59a38b",
   "metadata": {
    "scrolled": true
   },
   "outputs": [
    {
     "data": {
      "text/html": [
       "<div>\n",
       "<style scoped>\n",
       "    .dataframe tbody tr th:only-of-type {\n",
       "        vertical-align: middle;\n",
       "    }\n",
       "\n",
       "    .dataframe tbody tr th {\n",
       "        vertical-align: top;\n",
       "    }\n",
       "\n",
       "    .dataframe thead tr th {\n",
       "        text-align: left;\n",
       "    }\n",
       "\n",
       "    .dataframe thead tr:last-of-type th {\n",
       "        text-align: right;\n",
       "    }\n",
       "</style>\n",
       "<table border=\"1\" class=\"dataframe\">\n",
       "  <thead>\n",
       "    <tr>\n",
       "      <th></th>\n",
       "      <th colspan=\"4\" halign=\"left\">Ano 2021</th>\n",
       "      <th colspan=\"4\" halign=\"left\">Ano 2022</th>\n",
       "    </tr>\n",
       "    <tr>\n",
       "      <th></th>\n",
       "      <th>Uf_analises21_id</th>\n",
       "      <th>Número de Transações</th>\n",
       "      <th>Valor total das Importações</th>\n",
       "      <th>Valor médio das Importações</th>\n",
       "      <th>Uf_analises22_id</th>\n",
       "      <th>Número de Transações</th>\n",
       "      <th>Valor total das Importações</th>\n",
       "      <th>Valor médio das Importações</th>\n",
       "    </tr>\n",
       "    <tr>\n",
       "      <th>Estado(dest)</th>\n",
       "      <th></th>\n",
       "      <th></th>\n",
       "      <th></th>\n",
       "      <th></th>\n",
       "      <th></th>\n",
       "      <th></th>\n",
       "      <th></th>\n",
       "      <th></th>\n",
       "    </tr>\n",
       "  </thead>\n",
       "  <tbody>\n",
       "    <tr>\n",
       "      <th>Tocantins</th>\n",
       "      <td>Tocantins</td>\n",
       "      <td>522</td>\n",
       "      <td>$246,875,194.00</td>\n",
       "      <td>$472,940.98</td>\n",
       "      <td>Tocantins</td>\n",
       "      <td>421</td>\n",
       "      <td>$383,427,859.00</td>\n",
       "      <td>$910,755.01</td>\n",
       "    </tr>\n",
       "    <tr>\n",
       "      <th>São Paulo</th>\n",
       "      <td>São Paulo</td>\n",
       "      <td>372536</td>\n",
       "      <td>$32,343,693,350.00</td>\n",
       "      <td>$86,820.32</td>\n",
       "      <td>São Paulo</td>\n",
       "      <td>305648</td>\n",
       "      <td>$31,028,272,321.00</td>\n",
       "      <td>$101,516.36</td>\n",
       "    </tr>\n",
       "    <tr>\n",
       "      <th>Sergipe</th>\n",
       "      <td>Sergipe</td>\n",
       "      <td>1568</td>\n",
       "      <td>$68,823,791.00</td>\n",
       "      <td>$43,892.72</td>\n",
       "      <td>Sergipe</td>\n",
       "      <td>1123</td>\n",
       "      <td>$218,532,521.00</td>\n",
       "      <td>$194,597.08</td>\n",
       "    </tr>\n",
       "    <tr>\n",
       "      <th>Santa Catarina</th>\n",
       "      <td>Santa Catarina</td>\n",
       "      <td>80672</td>\n",
       "      <td>$11,973,722,457.00</td>\n",
       "      <td>$148,424.76</td>\n",
       "      <td>Santa Catarina</td>\n",
       "      <td>66562</td>\n",
       "      <td>$11,267,204,084.00</td>\n",
       "      <td>$169,273.82</td>\n",
       "    </tr>\n",
       "    <tr>\n",
       "      <th>Roraima</th>\n",
       "      <td>Roraima</td>\n",
       "      <td>223</td>\n",
       "      <td>$14,569,435.00</td>\n",
       "      <td>$65,333.79</td>\n",
       "      <td>Roraima</td>\n",
       "      <td>149</td>\n",
       "      <td>$32,498,423.00</td>\n",
       "      <td>$218,110.22</td>\n",
       "    </tr>\n",
       "    <tr>\n",
       "      <th>Rondônia</th>\n",
       "      <td>Rondônia</td>\n",
       "      <td>3309</td>\n",
       "      <td>$311,094,652.00</td>\n",
       "      <td>$94,014.70</td>\n",
       "      <td>Rondônia</td>\n",
       "      <td>3056</td>\n",
       "      <td>$261,427,689.00</td>\n",
       "      <td>$85,545.71</td>\n",
       "    </tr>\n",
       "    <tr>\n",
       "      <th>Rio de Janeiro</th>\n",
       "      <td>Rio de Janeiro</td>\n",
       "      <td>46609</td>\n",
       "      <td>$9,765,059,791.00</td>\n",
       "      <td>$209,510.18</td>\n",
       "      <td>Rio de Janeiro</td>\n",
       "      <td>39624</td>\n",
       "      <td>$10,254,233,644.00</td>\n",
       "      <td>$258,788.45</td>\n",
       "    </tr>\n",
       "    <tr>\n",
       "      <th>Rio Grande do Sul</th>\n",
       "      <td>Rio Grande do Sul</td>\n",
       "      <td>47666</td>\n",
       "      <td>$4,716,769,614.00</td>\n",
       "      <td>$98,954.59</td>\n",
       "      <td>Rio Grande do Sul</td>\n",
       "      <td>37746</td>\n",
       "      <td>$5,146,555,545.00</td>\n",
       "      <td>$136,347.04</td>\n",
       "    </tr>\n",
       "  </tbody>\n",
       "</table>\n",
       "</div>"
      ],
      "text/plain": [
       "                            Ano 2021                       \\\n",
       "                    Uf_analises21_id Número de Transações   \n",
       "Estado(dest)                                                \n",
       "Tocantins                  Tocantins                  522   \n",
       "São Paulo                  São Paulo               372536   \n",
       "Sergipe                      Sergipe                 1568   \n",
       "Santa Catarina        Santa Catarina                80672   \n",
       "Roraima                      Roraima                  223   \n",
       "Rondônia                    Rondônia                 3309   \n",
       "Rio de Janeiro        Rio de Janeiro                46609   \n",
       "Rio Grande do Sul  Rio Grande do Sul                47666   \n",
       "\n",
       "                                                                           \\\n",
       "                  Valor total das Importações Valor médio das Importações   \n",
       "Estado(dest)                                                                \n",
       "Tocantins                     $246,875,194.00                 $472,940.98   \n",
       "São Paulo                  $32,343,693,350.00                  $86,820.32   \n",
       "Sergipe                        $68,823,791.00                  $43,892.72   \n",
       "Santa Catarina             $11,973,722,457.00                 $148,424.76   \n",
       "Roraima                        $14,569,435.00                  $65,333.79   \n",
       "Rondônia                      $311,094,652.00                  $94,014.70   \n",
       "Rio de Janeiro              $9,765,059,791.00                 $209,510.18   \n",
       "Rio Grande do Sul           $4,716,769,614.00                  $98,954.59   \n",
       "\n",
       "                            Ano 2022                       \\\n",
       "                    Uf_analises22_id Número de Transações   \n",
       "Estado(dest)                                                \n",
       "Tocantins                  Tocantins                  421   \n",
       "São Paulo                  São Paulo               305648   \n",
       "Sergipe                      Sergipe                 1123   \n",
       "Santa Catarina        Santa Catarina                66562   \n",
       "Roraima                      Roraima                  149   \n",
       "Rondônia                    Rondônia                 3056   \n",
       "Rio de Janeiro        Rio de Janeiro                39624   \n",
       "Rio Grande do Sul  Rio Grande do Sul                37746   \n",
       "\n",
       "                                                                           \n",
       "                  Valor total das Importações Valor médio das Importações  \n",
       "Estado(dest)                                                               \n",
       "Tocantins                     $383,427,859.00                 $910,755.01  \n",
       "São Paulo                  $31,028,272,321.00                 $101,516.36  \n",
       "Sergipe                       $218,532,521.00                 $194,597.08  \n",
       "Santa Catarina             $11,267,204,084.00                 $169,273.82  \n",
       "Roraima                        $32,498,423.00                 $218,110.22  \n",
       "Rondônia                      $261,427,689.00                  $85,545.71  \n",
       "Rio de Janeiro             $10,254,233,644.00                 $258,788.45  \n",
       "Rio Grande do Sul           $5,146,555,545.00                 $136,347.04  "
      ]
     },
     "execution_count": 33,
     "metadata": {},
     "output_type": "execute_result"
    }
   ],
   "source": [
    "uf_analises2122.sort_values(by=\"Estado(dest)\", ascending=False).head(8)"
   ]
  },
  {
   "cell_type": "markdown",
   "id": "72277711",
   "metadata": {},
   "source": [
    "## Qual foi o custo das Importações por Municípios?"
   ]
  },
  {
   "cell_type": "markdown",
   "id": "dd316a7f",
   "metadata": {},
   "source": [
    "Detalhamento dos valores movimentados por Municípios no Período."
   ]
  },
  {
   "cell_type": "markdown",
   "id": "fe625762",
   "metadata": {},
   "source": [
    "### Ano 2021"
   ]
  },
  {
   "cell_type": "code",
   "execution_count": 34,
   "id": "b64367bb",
   "metadata": {},
   "outputs": [],
   "source": [
    "# Inicio agrupando os valores/operações de cada estado e realizo os devidos calculos\n",
    "mun_total21 = dadosi21.groupby(\"Município(dest)\")[\"Total_em_Dólar\"].sum()\n",
    "mun_media21 = dadosi21.groupby(\"Município(dest)\")[\"Total_em_Dólar\"].mean()\n",
    "mun_operacoes21 = dadosi21.groupby(\"Município(dest)\")[\"Total_em_Dólar\"].count()"
   ]
  },
  {
   "cell_type": "code",
   "execution_count": 35,
   "id": "3d6896b1",
   "metadata": {},
   "outputs": [],
   "source": [
    "# Criando um DataFrame dos Municípios com os valores agrupados\n",
    "mun_analises21 = pd.DataFrame({\"Número de Compras no Exterior\" : mun_operacoes21,\n",
    "                               \"Valor médio das Importações\" : mun_media21,\n",
    "                               \"Valor total das Importações\" : mun_total21})\n",
    "\n",
    "\n",
    "#  Incluo uma coluna no meu DF com passando o 'Index'\n",
    "mun_analises21[\"Mun_analises21_id\"] = mun_analises21.index"
   ]
  },
  {
   "cell_type": "code",
   "execution_count": 36,
   "id": "90c09e22",
   "metadata": {},
   "outputs": [],
   "source": [
    "# Edito a formatação numérica dos dados\n",
    "mun_analises21 [\"Valor total das Importações\"] = mun_analises21[\"Valor total das Importações\"].map(\"${:,.0f}\".format)\n",
    "mun_analises21 [\"Valor médio das Importações\"] = mun_analises21[\"Valor médio das Importações\"].map(\"${:,.0f}\".format)"
   ]
  },
  {
   "cell_type": "code",
   "execution_count": 37,
   "id": "34e4603f",
   "metadata": {},
   "outputs": [],
   "source": [
    "# Faço uma 'Reordenação' do DF\n",
    "mun_analises21 = mun_analises21[[\"Mun_analises21_id\",\"Número de Compras no Exterior\",\n",
    "                                 \"Valor total das Importações\", \"Valor médio das Importações\"]]"
   ]
  },
  {
   "cell_type": "code",
   "execution_count": 38,
   "id": "0298adfc",
   "metadata": {},
   "outputs": [
    {
     "data": {
      "text/html": [
       "<div>\n",
       "<style scoped>\n",
       "    .dataframe tbody tr th:only-of-type {\n",
       "        vertical-align: middle;\n",
       "    }\n",
       "\n",
       "    .dataframe tbody tr th {\n",
       "        vertical-align: top;\n",
       "    }\n",
       "\n",
       "    .dataframe thead th {\n",
       "        text-align: right;\n",
       "    }\n",
       "</style>\n",
       "<table border=\"1\" class=\"dataframe\">\n",
       "  <thead>\n",
       "    <tr style=\"text-align: right;\">\n",
       "      <th></th>\n",
       "      <th>Mun_analises21_id</th>\n",
       "      <th>Número de Compras no Exterior</th>\n",
       "      <th>Valor total das Importações</th>\n",
       "      <th>Valor médio das Importações</th>\n",
       "    </tr>\n",
       "    <tr>\n",
       "      <th>Município(dest)</th>\n",
       "      <th></th>\n",
       "      <th></th>\n",
       "      <th></th>\n",
       "      <th></th>\n",
       "    </tr>\n",
       "  </thead>\n",
       "  <tbody>\n",
       "    <tr>\n",
       "      <th>São José dos Campos</th>\n",
       "      <td>São José dos Campos</td>\n",
       "      <td>7231</td>\n",
       "      <td>$997,376,290</td>\n",
       "      <td>$137,931</td>\n",
       "    </tr>\n",
       "    <tr>\n",
       "      <th>Gramado</th>\n",
       "      <td>Gramado</td>\n",
       "      <td>148</td>\n",
       "      <td>$995,488</td>\n",
       "      <td>$6,726</td>\n",
       "    </tr>\n",
       "    <tr>\n",
       "      <th>Nova Alvorada</th>\n",
       "      <td>Nova Alvorada</td>\n",
       "      <td>7</td>\n",
       "      <td>$993,857</td>\n",
       "      <td>$141,980</td>\n",
       "    </tr>\n",
       "    <tr>\n",
       "      <th>Maricá</th>\n",
       "      <td>Maricá</td>\n",
       "      <td>199</td>\n",
       "      <td>$990,910</td>\n",
       "      <td>$4,979</td>\n",
       "    </tr>\n",
       "    <tr>\n",
       "      <th>Teresina</th>\n",
       "      <td>Teresina</td>\n",
       "      <td>337</td>\n",
       "      <td>$99,877,965</td>\n",
       "      <td>$296,374</td>\n",
       "    </tr>\n",
       "  </tbody>\n",
       "</table>\n",
       "</div>"
      ],
      "text/plain": [
       "                       Mun_analises21_id  Número de Compras no Exterior  \\\n",
       "Município(dest)                                                           \n",
       "São José dos Campos  São José dos Campos                           7231   \n",
       "Gramado                          Gramado                            148   \n",
       "Nova Alvorada              Nova Alvorada                              7   \n",
       "Maricá                            Maricá                            199   \n",
       "Teresina                        Teresina                            337   \n",
       "\n",
       "                    Valor total das Importações Valor médio das Importações  \n",
       "Município(dest)                                                              \n",
       "São José dos Campos                $997,376,290                    $137,931  \n",
       "Gramado                                $995,488                      $6,726  \n",
       "Nova Alvorada                          $993,857                    $141,980  \n",
       "Maricá                                 $990,910                      $4,979  \n",
       "Teresina                            $99,877,965                    $296,374  "
      ]
     },
     "execution_count": 38,
     "metadata": {},
     "output_type": "execute_result"
    }
   ],
   "source": [
    "mun_analises21.sort_values(by=\"Valor total das Importações\", ascending=False).head()"
   ]
  },
  {
   "cell_type": "markdown",
   "id": "504beed6",
   "metadata": {},
   "source": [
    "### Ano 2022"
   ]
  },
  {
   "cell_type": "code",
   "execution_count": 39,
   "id": "50fe59c9",
   "metadata": {},
   "outputs": [],
   "source": [
    "# Inicio agrupando os valores/operações de cada estado e realizo os devidos calculos\n",
    "mun_total22 = dadosi22.groupby(\"Município(dest)\")[\"Total_em_Dólar\"].sum()\n",
    "mun_media22 = dadosi22.groupby(\"Município(dest)\")[\"Total_em_Dólar\"].mean()\n",
    "mun_operacoes22 = dadosi22.groupby(\"Município(dest)\")[\"Total_em_Dólar\"].count()"
   ]
  },
  {
   "cell_type": "code",
   "execution_count": 40,
   "id": "b63f2897",
   "metadata": {},
   "outputs": [],
   "source": [
    "# Criando um DataFrame dos Municípios com os valores agrupados\n",
    "mun_analises22 = pd.DataFrame({\"Número de Compras no Exterior\" : mun_operacoes22,\n",
    "                               \"Valor médio das Importações\" : mun_media22,\n",
    "                               \"Valor total das Importações\" : mun_total22})\n",
    "\n",
    "\n",
    "#  Incluo uma coluna no meu DF com passando o 'Index'\n",
    "mun_analises22[\"Mun_analises21_id\"] = mun_analises22.index"
   ]
  },
  {
   "cell_type": "code",
   "execution_count": 41,
   "id": "a0532301",
   "metadata": {},
   "outputs": [],
   "source": [
    "# Edito a formatação numérica dos dados\n",
    "mun_analises22 [\"Valor total das Importações\"] = mun_analises22[\"Valor total das Importações\"].map(\"${:,.0f}\".format)\n",
    "mun_analises22 [\"Valor médio das Importações\"] = mun_analises22[\"Valor médio das Importações\"].map(\"${:,.0f}\".format)"
   ]
  },
  {
   "cell_type": "code",
   "execution_count": 42,
   "id": "7b67e6ee",
   "metadata": {},
   "outputs": [],
   "source": [
    "# Faço uma 'Reordenação' do DF\n",
    "mun_analises22 = mun_analises22[[\"Mun_analises21_id\",\"Número de Compras no Exterior\",\n",
    "                                 \"Valor total das Importações\", \"Valor médio das Importações\"]]"
   ]
  },
  {
   "cell_type": "code",
   "execution_count": 43,
   "id": "64a0cafe",
   "metadata": {},
   "outputs": [
    {
     "data": {
      "text/html": [
       "<div>\n",
       "<style scoped>\n",
       "    .dataframe tbody tr th:only-of-type {\n",
       "        vertical-align: middle;\n",
       "    }\n",
       "\n",
       "    .dataframe tbody tr th {\n",
       "        vertical-align: top;\n",
       "    }\n",
       "\n",
       "    .dataframe thead th {\n",
       "        text-align: right;\n",
       "    }\n",
       "</style>\n",
       "<table border=\"1\" class=\"dataframe\">\n",
       "  <thead>\n",
       "    <tr style=\"text-align: right;\">\n",
       "      <th></th>\n",
       "      <th>Mun_analises21_id</th>\n",
       "      <th>Número de Compras no Exterior</th>\n",
       "      <th>Valor total das Importações</th>\n",
       "      <th>Valor médio das Importações</th>\n",
       "    </tr>\n",
       "    <tr>\n",
       "      <th>Município(dest)</th>\n",
       "      <th></th>\n",
       "      <th></th>\n",
       "      <th></th>\n",
       "      <th></th>\n",
       "    </tr>\n",
       "  </thead>\n",
       "  <tbody>\n",
       "    <tr>\n",
       "      <th>Água Azul do Norte</th>\n",
       "      <td>Água Azul do Norte</td>\n",
       "      <td>6</td>\n",
       "      <td>$999,273</td>\n",
       "      <td>$166,546</td>\n",
       "    </tr>\n",
       "    <tr>\n",
       "      <th>Ibaiti</th>\n",
       "      <td>Ibaiti</td>\n",
       "      <td>28</td>\n",
       "      <td>$995,786</td>\n",
       "      <td>$35,564</td>\n",
       "    </tr>\n",
       "    <tr>\n",
       "      <th>São José dos Campos</th>\n",
       "      <td>São José dos Campos</td>\n",
       "      <td>5999</td>\n",
       "      <td>$991,279,807</td>\n",
       "      <td>$165,241</td>\n",
       "    </tr>\n",
       "    <tr>\n",
       "      <th>Lajes</th>\n",
       "      <td>Lajes</td>\n",
       "      <td>118</td>\n",
       "      <td>$990,105</td>\n",
       "      <td>$8,391</td>\n",
       "    </tr>\n",
       "    <tr>\n",
       "      <th>Mineiros do Tietê</th>\n",
       "      <td>Mineiros do Tietê</td>\n",
       "      <td>6</td>\n",
       "      <td>$99,515</td>\n",
       "      <td>$16,586</td>\n",
       "    </tr>\n",
       "  </tbody>\n",
       "</table>\n",
       "</div>"
      ],
      "text/plain": [
       "                       Mun_analises21_id  Número de Compras no Exterior  \\\n",
       "Município(dest)                                                           \n",
       "Água Azul do Norte    Água Azul do Norte                              6   \n",
       "Ibaiti                            Ibaiti                             28   \n",
       "São José dos Campos  São José dos Campos                           5999   \n",
       "Lajes                              Lajes                            118   \n",
       "Mineiros do Tietê      Mineiros do Tietê                              6   \n",
       "\n",
       "                    Valor total das Importações Valor médio das Importações  \n",
       "Município(dest)                                                              \n",
       "Água Azul do Norte                     $999,273                    $166,546  \n",
       "Ibaiti                                 $995,786                     $35,564  \n",
       "São José dos Campos                $991,279,807                    $165,241  \n",
       "Lajes                                  $990,105                      $8,391  \n",
       "Mineiros do Tietê                       $99,515                     $16,586  "
      ]
     },
     "execution_count": 43,
     "metadata": {},
     "output_type": "execute_result"
    }
   ],
   "source": [
    "mun_analises22.sort_values(by=\"Valor total das Importações\", ascending=False).head()"
   ]
  },
  {
   "cell_type": "markdown",
   "id": "bb84a232",
   "metadata": {},
   "source": [
    "## Quais são os principais Remetentes das Importações?"
   ]
  },
  {
   "cell_type": "markdown",
   "id": "a89a6e2a",
   "metadata": {},
   "source": [
    "Busco identificar os principais Paises com maiores exportações para o Brasil durante o Período."
   ]
  },
  {
   "cell_type": "markdown",
   "id": "399ec7af",
   "metadata": {},
   "source": [
    "### Ano 2021"
   ]
  },
  {
   "cell_type": "code",
   "execution_count": 44,
   "id": "efb433c4",
   "metadata": {},
   "outputs": [],
   "source": [
    "model_21 = dadosi21[\"País(orig)\"]\n",
    "model_21.index = range(0, 772039, 1)"
   ]
  },
  {
   "cell_type": "code",
   "execution_count": 45,
   "id": "b7da14d2",
   "metadata": {},
   "outputs": [
    {
     "data": {
      "text/plain": [
       "0                  China\n",
       "1         Estados Unidos\n",
       "2                  China\n",
       "3                Polônia\n",
       "4                  China\n",
       "               ...      \n",
       "772034             China\n",
       "772035           Espanha\n",
       "772036     Coreia do Sul\n",
       "772037             China\n",
       "772038    Estados Unidos\n",
       "Name: País(orig), Length: 772039, dtype: object"
      ]
     },
     "execution_count": 45,
     "metadata": {},
     "output_type": "execute_result"
    }
   ],
   "source": [
    "model_21"
   ]
  },
  {
   "cell_type": "code",
   "execution_count": 46,
   "id": "84582af4",
   "metadata": {},
   "outputs": [],
   "source": [
    "pais_21 = [str(i) for i in model_21]"
   ]
  },
  {
   "cell_type": "code",
   "execution_count": 47,
   "id": "acce34c4",
   "metadata": {},
   "outputs": [],
   "source": [
    "# Criando um vetor\n",
    "vetor_pais21 = CountVectorizer(analyzer = 'word', lowercase=False)"
   ]
  },
  {
   "cell_type": "code",
   "execution_count": 48,
   "id": "40040098",
   "metadata": {},
   "outputs": [],
   "source": [
    "# Vetorizando o dataset\n",
    "paises21 = vetor_pais21.fit_transform(pais_21)"
   ]
  },
  {
   "cell_type": "code",
   "execution_count": 49,
   "id": "018be1c1",
   "metadata": {},
   "outputs": [],
   "source": [
    "# Retornando paises únicos\n",
    "paises_unicos21 = vetor_pais21.get_feature_names_out()"
   ]
  },
  {
   "cell_type": "code",
   "execution_count": 50,
   "id": "3dc6a186",
   "metadata": {
    "scrolled": true
   },
   "outputs": [],
   "source": [
    "# Criar um novo DataFrame dos Paises\n",
    "dfpaises21 = pd.DataFrame(paises21.todense(), columns = paises_unicos21, index = model_21.index)"
   ]
  },
  {
   "cell_type": "code",
   "execution_count": 51,
   "id": "57c5657b",
   "metadata": {},
   "outputs": [],
   "source": [
    "# Calcular o percentual \n",
    "percent_pais21 = 100 * pd.Series(dfpaises21.sum()).sort_values(ascending = False) / dfpaises21.shape[0]"
   ]
  },
  {
   "cell_type": "code",
   "execution_count": 52,
   "id": "54697e17",
   "metadata": {},
   "outputs": [],
   "source": [
    "# Faço a 'limpeza' de 'Dados' reconhecidos com 'nan'\n",
    "percent_pais21.drop([\"nan\"], inplace=True)"
   ]
  },
  {
   "cell_type": "code",
   "execution_count": 53,
   "id": "c744a9c6",
   "metadata": {},
   "outputs": [],
   "source": [
    "# Incluo o 'Index' como propriedade da Serie\n",
    "percent_pais21[\"Percent_pais21_id\"] = percent_pais21.index"
   ]
  },
  {
   "cell_type": "code",
   "execution_count": 54,
   "id": "5fb9755b",
   "metadata": {
    "scrolled": true
   },
   "outputs": [
    {
     "data": {
      "text/plain": [
       "China      16.981137\n",
       "Unidos     11.603041\n",
       "Estados    11.536464\n",
       "Itália      6.196578\n",
       "Japão       4.029589\n",
       "dtype: object"
      ]
     },
     "execution_count": 54,
     "metadata": {},
     "output_type": "execute_result"
    }
   ],
   "source": [
    "# Um head dos 5 primeiros \n",
    "percent_pais21.head()"
   ]
  },
  {
   "cell_type": "markdown",
   "id": "acc4ac46",
   "metadata": {},
   "source": [
    "### Ano 2022"
   ]
  },
  {
   "cell_type": "code",
   "execution_count": 55,
   "id": "c9ee19b2",
   "metadata": {},
   "outputs": [],
   "source": [
    "model_22 = dadosi22[\"País(orig)\"]\n",
    "model_22.index = range(0, 630794, 1)"
   ]
  },
  {
   "cell_type": "code",
   "execution_count": 56,
   "id": "7930f15d",
   "metadata": {},
   "outputs": [
    {
     "data": {
      "text/plain": [
       "0         Tcheca, República\n",
       "1                  Alemanha\n",
       "2            Estados Unidos\n",
       "3                    Itália\n",
       "4                     Suíça\n",
       "                ...        \n",
       "630789                China\n",
       "630790               Itália\n",
       "630791               Itália\n",
       "630792                  NaN\n",
       "630793                China\n",
       "Name: País(orig), Length: 630794, dtype: object"
      ]
     },
     "execution_count": 56,
     "metadata": {},
     "output_type": "execute_result"
    }
   ],
   "source": [
    "model_22"
   ]
  },
  {
   "cell_type": "code",
   "execution_count": 57,
   "id": "fc7339b0",
   "metadata": {},
   "outputs": [],
   "source": [
    "pais_22 = [str(i) for i in model_22]"
   ]
  },
  {
   "cell_type": "code",
   "execution_count": 58,
   "id": "efb49118",
   "metadata": {},
   "outputs": [],
   "source": [
    "# Criando um vetor\n",
    "vetor_pais22 = CountVectorizer(analyzer = 'word', lowercase=False)"
   ]
  },
  {
   "cell_type": "code",
   "execution_count": 59,
   "id": "fbb3a944",
   "metadata": {},
   "outputs": [],
   "source": [
    "# Vetorizando o dataset\n",
    "paises22 = vetor_pais22.fit_transform(pais_22)"
   ]
  },
  {
   "cell_type": "code",
   "execution_count": 60,
   "id": "fe52ee3f",
   "metadata": {},
   "outputs": [],
   "source": [
    "# Retornando paises únicos\n",
    "paises_unicos22 = vetor_pais22.get_feature_names_out()"
   ]
  },
  {
   "cell_type": "code",
   "execution_count": 61,
   "id": "28c9a3af",
   "metadata": {},
   "outputs": [],
   "source": [
    "# Criar um novo DataFrame dos Paises\n",
    "dfpaises22 = pd.DataFrame(paises22.todense(), columns = paises_unicos22, index = model_22.index)"
   ]
  },
  {
   "cell_type": "code",
   "execution_count": 62,
   "id": "dbaaa170",
   "metadata": {},
   "outputs": [],
   "source": [
    "# Calcular o percentual \n",
    "percent_pais22 = 100 * pd.Series(dfpaises22.sum()).sort_values(ascending = False) / dfpaises22.shape[0]"
   ]
  },
  {
   "cell_type": "code",
   "execution_count": 63,
   "id": "e0693d9e",
   "metadata": {},
   "outputs": [],
   "source": [
    "# Faço a 'limpeza' de 'Dados' reconhecidos com 'nan'\n",
    "percent_pais22.drop([\"nan\"], inplace=True)"
   ]
  },
  {
   "cell_type": "code",
   "execution_count": 64,
   "id": "58f0d3f9",
   "metadata": {},
   "outputs": [],
   "source": [
    "# Incluo o 'Index' como propriedade da Serie\n",
    "percent_pais22[\"Percent_pais22_id\"] = percent_pais22.index"
   ]
  },
  {
   "cell_type": "code",
   "execution_count": 65,
   "id": "7a5e9cdf",
   "metadata": {
    "scrolled": true
   },
   "outputs": [
    {
     "data": {
      "text/plain": [
       "China      17.152509\n",
       "Unidos     11.581911\n",
       "Estados    11.511048\n",
       "Itália      6.153673\n",
       "Japão       4.010977\n",
       "dtype: object"
      ]
     },
     "execution_count": 65,
     "metadata": {},
     "output_type": "execute_result"
    }
   ],
   "source": [
    "# Um head dos 5 primeiros \n",
    "percent_pais22.head(5)"
   ]
  },
  {
   "cell_type": "markdown",
   "id": "8c814970",
   "metadata": {},
   "source": [
    "## Quais são os Produtos com Maiores Importações?"
   ]
  },
  {
   "cell_type": "markdown",
   "id": "9b3eff41",
   "metadata": {},
   "source": [
    "Abaixo localizo os produtos mais requisitados por importadoras no Mercado Exterior."
   ]
  },
  {
   "cell_type": "markdown",
   "id": "0e118633",
   "metadata": {},
   "source": [
    "### Ano 2021"
   ]
  },
  {
   "cell_type": "code",
   "execution_count": 66,
   "id": "c067a7f5",
   "metadata": {
    "scrolled": true
   },
   "outputs": [],
   "source": [
    "# Agrupo os Produtos e realizo a sua Contagem, em seguida, Somo os Valores de todas as suas Compras\n",
    "produtos_contagem21 = dadosi21.groupby(\"Produtos\")[\"Total_em_Dólar\"].count()\n",
    "produtos_soma21 = dadosi21.groupby(\"Produtos\")[\"Total_em_Dólar\"].sum()"
   ]
  },
  {
   "cell_type": "code",
   "execution_count": 72,
   "id": "f795ec74",
   "metadata": {},
   "outputs": [],
   "source": [
    "# Crio um DF com os valores acima\n",
    "produtosunicos21 = pd.DataFrame({\"Quantidade de Importaçõe\" : produtos_contagem21,\n",
    "                                 \"Valor total das Importações\" : produtos_soma21})\n",
    "\n",
    "# Incluo o 'Index no meu DF'\n",
    "produtosunicos21['ProdutosUnicos21_id'] = produtosunicos21.index"
   ]
  },
  {
   "cell_type": "code",
   "execution_count": 73,
   "id": "34fb6e45",
   "metadata": {},
   "outputs": [],
   "source": [
    "# Faço uma pequena alteração na saída \n",
    "produtosunicos21[\"Valor total das Importações\"] = produtosunicos21[\"Valor total das Importações\"].map(\"${:,.0f}\".format)"
   ]
  },
  {
   "cell_type": "code",
   "execution_count": 74,
   "id": "d8cfc98a",
   "metadata": {},
   "outputs": [],
   "source": [
    "# Reordeno as 'Colunas' do meu DF\n",
    "produtosunicos21 = produtosunicos21[['ProdutosUnicos21_id',\n",
    "                                     'Quantidade de Importaçõe','Valor total das Importações']]"
   ]
  },
  {
   "cell_type": "code",
   "execution_count": 75,
   "id": "e5f798e6",
   "metadata": {},
   "outputs": [
    {
     "data": {
      "text/html": [
       "<div>\n",
       "<style scoped>\n",
       "    .dataframe tbody tr th:only-of-type {\n",
       "        vertical-align: middle;\n",
       "    }\n",
       "\n",
       "    .dataframe tbody tr th {\n",
       "        vertical-align: top;\n",
       "    }\n",
       "\n",
       "    .dataframe thead th {\n",
       "        text-align: right;\n",
       "    }\n",
       "</style>\n",
       "<table border=\"1\" class=\"dataframe\">\n",
       "  <thead>\n",
       "    <tr style=\"text-align: right;\">\n",
       "      <th></th>\n",
       "      <th>ProdutosUnicos21_id</th>\n",
       "      <th>Quantidade de Importaçõe</th>\n",
       "      <th>Valor total das Importações</th>\n",
       "    </tr>\n",
       "    <tr>\n",
       "      <th>Produtos</th>\n",
       "      <th></th>\n",
       "      <th></th>\n",
       "      <th></th>\n",
       "    </tr>\n",
       "  </thead>\n",
       "  <tbody>\n",
       "    <tr>\n",
       "      <th>Abrasivos naturais ou artificiais, em pó ou em grãos, aplicados sobre matérias têxteis, papel, cartão ou outras matérias, mesmo recortados, costurados ou reunidos de outro modo</th>\n",
       "      <td>Abrasivos naturais ou artificiais, em pó ou em...</td>\n",
       "      <td>1323</td>\n",
       "      <td>$41,810,364</td>\n",
       "    </tr>\n",
       "    <tr>\n",
       "      <th>Absorventes e tampões higiênicos, cueiros e fraldas para bebês e artigos higiênicos semelhantes, de qualquer matéria</th>\n",
       "      <td>Absorventes e tampões higiênicos, cueiros e fr...</td>\n",
       "      <td>134</td>\n",
       "      <td>$20,894,330</td>\n",
       "    </tr>\n",
       "    <tr>\n",
       "      <th>Acessórios para tubos (por exemplo, uniões, cotovelos, luvas), de alumínio</th>\n",
       "      <td>Acessórios para tubos (por exemplo, uniões, co...</td>\n",
       "      <td>878</td>\n",
       "      <td>$6,962,756</td>\n",
       "    </tr>\n",
       "    <tr>\n",
       "      <th>Acessórios para tubos [por exemplo: uniões, cotovelos, mangas (luvas)], de cobre</th>\n",
       "      <td>Acessórios para tubos [por exemplo: uniões, co...</td>\n",
       "      <td>1820</td>\n",
       "      <td>$22,653,383</td>\n",
       "    </tr>\n",
       "    <tr>\n",
       "      <th>Acessórios para tubos [por exemplo: uniões, cotovelos, mangas (luvas)], de ferro fundido, ferro ou aço</th>\n",
       "      <td>Acessórios para tubos [por exemplo: uniões, co...</td>\n",
       "      <td>5732</td>\n",
       "      <td>$147,607,324</td>\n",
       "    </tr>\n",
       "  </tbody>\n",
       "</table>\n",
       "</div>"
      ],
      "text/plain": [
       "                                                                                  ProdutosUnicos21_id  \\\n",
       "Produtos                                                                                                \n",
       "Abrasivos naturais ou artificiais, em pó ou em ...  Abrasivos naturais ou artificiais, em pó ou em...   \n",
       "Absorventes e tampões higiênicos, cueiros e fra...  Absorventes e tampões higiênicos, cueiros e fr...   \n",
       "Acessórios para tubos (por exemplo, uniões, cot...  Acessórios para tubos (por exemplo, uniões, co...   \n",
       "Acessórios para tubos [por exemplo: uniões, cot...  Acessórios para tubos [por exemplo: uniões, co...   \n",
       "Acessórios para tubos [por exemplo: uniões, cot...  Acessórios para tubos [por exemplo: uniões, co...   \n",
       "\n",
       "                                                    Quantidade de Importaçõe  \\\n",
       "Produtos                                                                       \n",
       "Abrasivos naturais ou artificiais, em pó ou em ...                      1323   \n",
       "Absorventes e tampões higiênicos, cueiros e fra...                       134   \n",
       "Acessórios para tubos (por exemplo, uniões, cot...                       878   \n",
       "Acessórios para tubos [por exemplo: uniões, cot...                      1820   \n",
       "Acessórios para tubos [por exemplo: uniões, cot...                      5732   \n",
       "\n",
       "                                                   Valor total das Importações  \n",
       "Produtos                                                                        \n",
       "Abrasivos naturais ou artificiais, em pó ou em ...                 $41,810,364  \n",
       "Absorventes e tampões higiênicos, cueiros e fra...                 $20,894,330  \n",
       "Acessórios para tubos (por exemplo, uniões, cot...                  $6,962,756  \n",
       "Acessórios para tubos [por exemplo: uniões, cot...                 $22,653,383  \n",
       "Acessórios para tubos [por exemplo: uniões, cot...                $147,607,324  "
      ]
     },
     "execution_count": 75,
     "metadata": {},
     "output_type": "execute_result"
    }
   ],
   "source": [
    "produtosunicos21.head()"
   ]
  },
  {
   "cell_type": "markdown",
   "id": "b7ea21a0",
   "metadata": {},
   "source": [
    "### Ano 2022"
   ]
  },
  {
   "cell_type": "code",
   "execution_count": 76,
   "id": "603e9989",
   "metadata": {},
   "outputs": [],
   "source": [
    "# Agrupo os Produtos e realizo a sua Contagem, em seguida, Somo os Valores de todas as suas Compras\n",
    "produtos_contagem22 = dadosi22.groupby(\"Produtos\")[\"Total_em_Dólar\"].count()\n",
    "produtos_soma22 = dadosi22.groupby(\"Produtos\")[\"Total_em_Dólar\"].sum()"
   ]
  },
  {
   "cell_type": "code",
   "execution_count": 77,
   "id": "c8eeb4b7",
   "metadata": {},
   "outputs": [],
   "source": [
    "# Crio um DF com os valores acima\n",
    "produtosunicos22 = pd.DataFrame({\"Quantidade de Importaçõe\" : produtos_contagem22,\n",
    "                                 \"Valor total das Importações\" : produtos_soma22})\n",
    "\n",
    "# Incluo o 'Index no meu DF'\n",
    "produtosunicos22['ProdutosUnicos22_id'] = produtosunicos22.index"
   ]
  },
  {
   "cell_type": "code",
   "execution_count": 78,
   "id": "aa97426f",
   "metadata": {},
   "outputs": [],
   "source": [
    "# Faço uma pequena alteração na saída \n",
    "produtosunicos22[\"Valor total das Importações\"] = produtosunicos22[\"Valor total das Importações\"].map(\"${:,.0f}\".format)"
   ]
  },
  {
   "cell_type": "code",
   "execution_count": 80,
   "id": "4d6962e4",
   "metadata": {},
   "outputs": [],
   "source": [
    "# Reordeno as 'Colunas' do meu DF\n",
    "produtosunicos22 = produtosunicos22[['ProdutosUnicos22_id',\n",
    "                                     'Quantidade de Importaçõe','Valor total das Importações']]"
   ]
  },
  {
   "cell_type": "code",
   "execution_count": 81,
   "id": "ae2c4da6",
   "metadata": {
    "scrolled": false
   },
   "outputs": [
    {
     "data": {
      "text/html": [
       "<div>\n",
       "<style scoped>\n",
       "    .dataframe tbody tr th:only-of-type {\n",
       "        vertical-align: middle;\n",
       "    }\n",
       "\n",
       "    .dataframe tbody tr th {\n",
       "        vertical-align: top;\n",
       "    }\n",
       "\n",
       "    .dataframe thead th {\n",
       "        text-align: right;\n",
       "    }\n",
       "</style>\n",
       "<table border=\"1\" class=\"dataframe\">\n",
       "  <thead>\n",
       "    <tr style=\"text-align: right;\">\n",
       "      <th></th>\n",
       "      <th>ProdutosUnicos22_id</th>\n",
       "      <th>Quantidade de Importaçõe</th>\n",
       "      <th>Valor total das Importações</th>\n",
       "    </tr>\n",
       "    <tr>\n",
       "      <th>Produtos</th>\n",
       "      <th></th>\n",
       "      <th></th>\n",
       "      <th></th>\n",
       "    </tr>\n",
       "  </thead>\n",
       "  <tbody>\n",
       "    <tr>\n",
       "      <th>Abrasivos naturais ou artificiais, em pó ou em grãos, aplicados sobre matérias têxteis, papel, cartão ou outras matérias, mesmo recortados, costurados ou reunidos de outro modo</th>\n",
       "      <td>Abrasivos naturais ou artificiais, em pó ou em...</td>\n",
       "      <td>1065</td>\n",
       "      <td>$37,183,405</td>\n",
       "    </tr>\n",
       "    <tr>\n",
       "      <th>Absorventes e tampões higiênicos, cueiros e fraldas para bebês e artigos higiênicos semelhantes, de qualquer matéria</th>\n",
       "      <td>Absorventes e tampões higiênicos, cueiros e fr...</td>\n",
       "      <td>90</td>\n",
       "      <td>$12,780,764</td>\n",
       "    </tr>\n",
       "    <tr>\n",
       "      <th>Acessórios para tubos (por exemplo, uniões, cotovelos, luvas), de alumínio</th>\n",
       "      <td>Acessórios para tubos (por exemplo, uniões, co...</td>\n",
       "      <td>746</td>\n",
       "      <td>$7,392,556</td>\n",
       "    </tr>\n",
       "    <tr>\n",
       "      <th>Acessórios para tubos [por exemplo: uniões, cotovelos, mangas (luvas)], de cobre</th>\n",
       "      <td>Acessórios para tubos [por exemplo: uniões, co...</td>\n",
       "      <td>1559</td>\n",
       "      <td>$20,296,932</td>\n",
       "    </tr>\n",
       "    <tr>\n",
       "      <th>Acessórios para tubos [por exemplo: uniões, cotovelos, mangas (luvas)], de ferro fundido, ferro ou aço</th>\n",
       "      <td>Acessórios para tubos [por exemplo: uniões, co...</td>\n",
       "      <td>4898</td>\n",
       "      <td>$146,116,375</td>\n",
       "    </tr>\n",
       "  </tbody>\n",
       "</table>\n",
       "</div>"
      ],
      "text/plain": [
       "                                                                                  ProdutosUnicos22_id  \\\n",
       "Produtos                                                                                                \n",
       "Abrasivos naturais ou artificiais, em pó ou em ...  Abrasivos naturais ou artificiais, em pó ou em...   \n",
       "Absorventes e tampões higiênicos, cueiros e fra...  Absorventes e tampões higiênicos, cueiros e fr...   \n",
       "Acessórios para tubos (por exemplo, uniões, cot...  Acessórios para tubos (por exemplo, uniões, co...   \n",
       "Acessórios para tubos [por exemplo: uniões, cot...  Acessórios para tubos [por exemplo: uniões, co...   \n",
       "Acessórios para tubos [por exemplo: uniões, cot...  Acessórios para tubos [por exemplo: uniões, co...   \n",
       "\n",
       "                                                    Quantidade de Importaçõe  \\\n",
       "Produtos                                                                       \n",
       "Abrasivos naturais ou artificiais, em pó ou em ...                      1065   \n",
       "Absorventes e tampões higiênicos, cueiros e fra...                        90   \n",
       "Acessórios para tubos (por exemplo, uniões, cot...                       746   \n",
       "Acessórios para tubos [por exemplo: uniões, cot...                      1559   \n",
       "Acessórios para tubos [por exemplo: uniões, cot...                      4898   \n",
       "\n",
       "                                                   Valor total das Importações  \n",
       "Produtos                                                                        \n",
       "Abrasivos naturais ou artificiais, em pó ou em ...                 $37,183,405  \n",
       "Absorventes e tampões higiênicos, cueiros e fra...                 $12,780,764  \n",
       "Acessórios para tubos (por exemplo, uniões, cot...                  $7,392,556  \n",
       "Acessórios para tubos [por exemplo: uniões, cot...                 $20,296,932  \n",
       "Acessórios para tubos [por exemplo: uniões, cot...                $146,116,375  "
      ]
     },
     "execution_count": 81,
     "metadata": {},
     "output_type": "execute_result"
    }
   ],
   "source": [
    "produtosunicos22.head()"
   ]
  },
  {
   "cell_type": "code",
   "execution_count": null,
   "id": "9766c9d7",
   "metadata": {},
   "outputs": [],
   "source": []
  },
  {
   "cell_type": "code",
   "execution_count": null,
   "id": "661ee9fc",
   "metadata": {},
   "outputs": [],
   "source": [
    "relevantes_21e22 = "
   ]
  },
  {
   "cell_type": "markdown",
   "id": "b02f0ae7",
   "metadata": {},
   "source": [
    "#### Feito por mim, <a href=\"https://linkedin.com/in/mario-barcelos\"> Mario Barcelos! </a> "
   ]
  }
 ],
 "metadata": {
  "kernelspec": {
   "display_name": "Python 3 (ipykernel)",
   "language": "python",
   "name": "python3"
  },
  "language_info": {
   "codemirror_mode": {
    "name": "ipython",
    "version": 3
   },
   "file_extension": ".py",
   "mimetype": "text/x-python",
   "name": "python",
   "nbconvert_exporter": "python",
   "pygments_lexer": "ipython3",
   "version": "3.10.6"
  }
 },
 "nbformat": 4,
 "nbformat_minor": 5
}
