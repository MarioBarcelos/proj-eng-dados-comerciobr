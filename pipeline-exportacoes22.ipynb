{
 "cells": [
  {
   "cell_type": "markdown",
   "id": "2f532aff",
   "metadata": {},
   "source": [
    "### Importando Bibliotecas e Pacotes"
   ]
  },
  {
   "cell_type": "code",
   "execution_count": 3,
   "id": "714e4504",
   "metadata": {},
   "outputs": [],
   "source": [
    "import numpy as np\n",
    "import pandas as pd\n",
    "import csv\n",
    "import json\n",
    "from sklearn.feature_extraction.text import CountVectorizer\n",
    "import requests\n",
    "import io"
   ]
  },
  {
   "cell_type": "markdown",
   "id": "810bf590",
   "metadata": {},
   "source": [
    "### Acessando os dados "
   ]
  },
  {
   "cell_type": "code",
   "execution_count": 4,
   "id": "5b6b7eb7",
   "metadata": {
    "scrolled": false
   },
   "outputs": [
    {
     "name": "stderr",
     "output_type": "stream",
     "text": [
      "/tmp/ipykernel_9333/2036215297.py:4: DtypeWarning: Columns (0,1,2,3,5,6,7) have mixed types. Specify dtype option on import or set low_memory=False.\n",
      "  dadosexp22 = pd.read_csv(io.StringIO(exp22.text), names = ['Ano', 'Mes', 'Produtos', 'Pais(dest)', 'Estado','Municipio','KG_Liq', 'Total_em_Dólar'],sep = ';',encoding=\"utf-8-sig\", low_memory=True)\n"
     ]
    }
   ],
   "source": [
    "#(0) Faço a chamada do arquivo csv a ser analisado, (1) crio um DataFrame(df) renomeando as colunas já existentes\n",
    "exp22 = requests.get('https://storage.googleapis.com/comerciobr2122/EXP_2022_MUN.csv')\n",
    "\n",
    "dadosexp22 = pd.read_csv(io.StringIO(exp22.text), names = ['Ano', 'Mes', 'Produtos', 'Pais(dest)', 'Estado','Municipio','KG_Liq', 'Total_em_Dólar'],sep = ';',encoding=\"utf-8-sig\", low_memory=True)"
   ]
  },
  {
   "cell_type": "markdown",
   "id": "7fe837d9",
   "metadata": {},
   "source": [
    "### Acessando as Nomeclaturas originais"
   ]
  },
  {
   "cell_type": "code",
   "execution_count": 3,
   "id": "366c2a73",
   "metadata": {},
   "outputs": [],
   "source": [
    "# Realizando a leitura dos arquivos já convertidos e carregando em uma variável\n",
    "with open(\"meses.json\", \"r\") as jsonMes:\n",
    "    meses = json.loads(jsonMes.read())\n",
    "with open(\"produtos.json\", \"r\") as jsonProdutos:\n",
    "    produtos = json.loads(jsonProdutos.read())\n",
    "with open(\"paises.json\", \"r\") as jsonPais:\n",
    "    paises = json.loads(jsonPais.read())\n",
    "with open(\"estadosBr.json\", \"r\") as jsonEstados:\n",
    "    estados = json.loads(jsonEstados.read())\n",
    "with open(\"municipios.json\", \"r\") as jsonMun:\n",
    "    municipios = json.loads(jsonMun.read())"
   ]
  },
  {
   "cell_type": "markdown",
   "id": "1f0f23fc",
   "metadata": {},
   "source": [
    "### Limpeza e Tratamento dos Dados "
   ]
  },
  {
   "cell_type": "code",
   "execution_count": 4,
   "id": "e3655e47",
   "metadata": {},
   "outputs": [],
   "source": [
    "# Altero o tipo de dados das colunas para utilização com o map\n",
    "dadosexp22[\"Mes\"] = dadosexp22[\"Mes\"].astype('string')\n",
    "dadosexp22[\"Produtos\"] = dadosexp22[\"Produtos\"].astype('string')\n",
    "dadosexp22[\"Pais(dest)\"] = dadosexp22[\"Pais(dest)\"].astype('string')\n",
    "dadosexp22[\"Estado\"] = dadosexp22[\"Estado\"].astype('string')\n",
    "dadosexp22[\"Municipio\"] = dadosexp22[\"Municipio\"].astype('string')"
   ]
  },
  {
   "cell_type": "code",
   "execution_count": 5,
   "id": "c7b0518a",
   "metadata": {},
   "outputs": [],
   "source": [
    "# Com a função drop removo a coluna \"ano\" e a linha \"0\".\n",
    "dadosexp22.drop([\"Ano\"], axis=1, inplace=True)\n",
    "dadosexp22.drop([0], inplace=True)\n",
    "\n",
    "# Por fim faço a remoção de duplicatas e valores NA\n",
    "dadosexp22 = dadosexp22.drop_duplicates()\n",
    "dadosexp22 = dadosexp22.dropna()"
   ]
  },
  {
   "cell_type": "code",
   "execution_count": 6,
   "id": "eb516f18",
   "metadata": {},
   "outputs": [],
   "source": [
    "# Renomeio todas as colunas abaixo utilizando como valor de saída as Nomeclaturas originais\n",
    "dadosexp22[\"Mes\"] = dadosexp22[\"Mes\"].map(meses,na_action='ignore')\n",
    "dadosexp22[\"Produtos\"] = dadosexp22[\"Produtos\"].map(produtos,na_action='ignore')\n",
    "dadosexp22[\"Pais(dest)\"] = dadosexp22[\"Pais(dest)\"].map(paises,na_action='ignore')\n",
    "dadosexp22[\"Estado\"] = dadosexp22[\"Estado\"].map(estados,na_action='ignore')\n",
    "dadosexp22[\"Municipio\"] = dadosexp22[\"Municipio\"].map(municipios,na_action='ignore')"
   ]
  },
  {
   "cell_type": "code",
   "execution_count": 7,
   "id": "61a7a669",
   "metadata": {},
   "outputs": [],
   "source": [
    "# Seleciono o período a ser analisado com a função loc (Jan,Fev,Mar,Abril,Maio,Junho) \n",
    "dadosexp22 = dadosexp22.loc[dadosexp22['Mes'].isin(['Janeiro','Fevereiro','Março',\n",
    "                                              'Abril','Maio','Junho','Julho',\n",
    "                                              'Agosto','Setembro','Outubro',\n",
    "                                              'Novembro','Dezembro'])]"
   ]
  },
  {
   "cell_type": "code",
   "execution_count": 8,
   "id": "09483346",
   "metadata": {},
   "outputs": [],
   "source": [
    "# Incluo o 'index' do pandas como propriedade do DF e reordeno o DF\n",
    "dadosexp22[\"Id_Venda\"] = dadosexp22.index\n",
    "dadosexp22 = dadosexp22[['Id_Venda','Municipio','Estado','Pais(dest)','Produtos',\n",
    "                     'Total_em_Dólar','KG_Liq','Mes']]"
   ]
  },
  {
   "cell_type": "code",
   "execution_count": 9,
   "id": "cc2ff970",
   "metadata": {
    "scrolled": true
   },
   "outputs": [
    {
     "data": {
      "text/html": [
       "<div>\n",
       "<style scoped>\n",
       "    .dataframe tbody tr th:only-of-type {\n",
       "        vertical-align: middle;\n",
       "    }\n",
       "\n",
       "    .dataframe tbody tr th {\n",
       "        vertical-align: top;\n",
       "    }\n",
       "\n",
       "    .dataframe thead th {\n",
       "        text-align: right;\n",
       "    }\n",
       "</style>\n",
       "<table border=\"1\" class=\"dataframe\">\n",
       "  <thead>\n",
       "    <tr style=\"text-align: right;\">\n",
       "      <th></th>\n",
       "      <th>Id_Venda</th>\n",
       "      <th>Municipio</th>\n",
       "      <th>Estado</th>\n",
       "      <th>Pais(dest)</th>\n",
       "      <th>Produtos</th>\n",
       "      <th>Total_em_Dólar</th>\n",
       "      <th>KG_Liq</th>\n",
       "      <th>Mes</th>\n",
       "    </tr>\n",
       "  </thead>\n",
       "  <tbody>\n",
       "    <tr>\n",
       "      <th>1</th>\n",
       "      <td>1</td>\n",
       "      <td>Ampére</td>\n",
       "      <td>Paraná</td>\n",
       "      <td>Uruguai</td>\n",
       "      <td>Outros móveis e suas partes</td>\n",
       "      <td>47615</td>\n",
       "      <td>53482</td>\n",
       "      <td>Abril</td>\n",
       "    </tr>\n",
       "    <tr>\n",
       "      <th>3</th>\n",
       "      <td>3</td>\n",
       "      <td>Vitória</td>\n",
       "      <td>Espírito Santo</td>\n",
       "      <td>Panamá</td>\n",
       "      <td>Massas alimentícias, mesmo cozidas ou recheada...</td>\n",
       "      <td>2264</td>\n",
       "      <td>564</td>\n",
       "      <td>Setembro</td>\n",
       "    </tr>\n",
       "    <tr>\n",
       "      <th>4</th>\n",
       "      <td>4</td>\n",
       "      <td>São José</td>\n",
       "      <td>Santa Catarina</td>\n",
       "      <td>Argentina</td>\n",
       "      <td>Camiseiros, blusas, blusas-camiseiros, de uso ...</td>\n",
       "      <td>6642</td>\n",
       "      <td>85</td>\n",
       "      <td>Janeiro</td>\n",
       "    </tr>\n",
       "    <tr>\n",
       "      <th>5</th>\n",
       "      <td>5</td>\n",
       "      <td>Jaraguá do Sul</td>\n",
       "      <td>Santa Catarina</td>\n",
       "      <td>Estados Unidos</td>\n",
       "      <td>Motores e geradores, elétricos, exceto os grup...</td>\n",
       "      <td>12155328</td>\n",
       "      <td>2942192</td>\n",
       "      <td>Fevereiro</td>\n",
       "    </tr>\n",
       "    <tr>\n",
       "      <th>7</th>\n",
       "      <td>7</td>\n",
       "      <td>Vitória</td>\n",
       "      <td>Espírito Santo</td>\n",
       "      <td>Bahamas</td>\n",
       "      <td>Leitelho, leite e nata coalhados, iogurte, kef...</td>\n",
       "      <td>100</td>\n",
       "      <td>32</td>\n",
       "      <td>Maio</td>\n",
       "    </tr>\n",
       "    <tr>\n",
       "      <th>8</th>\n",
       "      <td>8</td>\n",
       "      <td>Ribeirão Preto</td>\n",
       "      <td>São Paulo</td>\n",
       "      <td>Argentina</td>\n",
       "      <td>Aparelhos de raios X e aparelhos que utilizem ...</td>\n",
       "      <td>217635</td>\n",
       "      <td>5234</td>\n",
       "      <td>Novembro</td>\n",
       "    </tr>\n",
       "    <tr>\n",
       "      <th>9</th>\n",
       "      <td>9</td>\n",
       "      <td>Ribeirão das Neves</td>\n",
       "      <td>Minas Gerais</td>\n",
       "      <td>Argentina</td>\n",
       "      <td>Acessórios para tubos [por exemplo: uniões, co...</td>\n",
       "      <td>1092</td>\n",
       "      <td>31</td>\n",
       "      <td>Agosto</td>\n",
       "    </tr>\n",
       "    <tr>\n",
       "      <th>11</th>\n",
       "      <td>11</td>\n",
       "      <td>Palhoça</td>\n",
       "      <td>Santa Catarina</td>\n",
       "      <td>Sérvia</td>\n",
       "      <td>Fatos de saia-casaco, conjuntos, casacos, vest...</td>\n",
       "      <td>1935</td>\n",
       "      <td>11</td>\n",
       "      <td>Junho</td>\n",
       "    </tr>\n",
       "  </tbody>\n",
       "</table>\n",
       "</div>"
      ],
      "text/plain": [
       "    Id_Venda           Municipio          Estado      Pais(dest)  \\\n",
       "1          1              Ampére          Paraná         Uruguai   \n",
       "3          3             Vitória  Espírito Santo          Panamá   \n",
       "4          4            São José  Santa Catarina       Argentina   \n",
       "5          5      Jaraguá do Sul  Santa Catarina  Estados Unidos   \n",
       "7          7             Vitória  Espírito Santo         Bahamas   \n",
       "8          8      Ribeirão Preto       São Paulo       Argentina   \n",
       "9          9  Ribeirão das Neves    Minas Gerais       Argentina   \n",
       "11        11             Palhoça  Santa Catarina          Sérvia   \n",
       "\n",
       "                                             Produtos Total_em_Dólar   KG_Liq  \\\n",
       "1                         Outros móveis e suas partes          47615    53482   \n",
       "3   Massas alimentícias, mesmo cozidas ou recheada...           2264      564   \n",
       "4   Camiseiros, blusas, blusas-camiseiros, de uso ...           6642       85   \n",
       "5   Motores e geradores, elétricos, exceto os grup...       12155328  2942192   \n",
       "7   Leitelho, leite e nata coalhados, iogurte, kef...            100       32   \n",
       "8   Aparelhos de raios X e aparelhos que utilizem ...         217635     5234   \n",
       "9   Acessórios para tubos [por exemplo: uniões, co...           1092       31   \n",
       "11  Fatos de saia-casaco, conjuntos, casacos, vest...           1935       11   \n",
       "\n",
       "          Mes  \n",
       "1       Abril  \n",
       "3    Setembro  \n",
       "4     Janeiro  \n",
       "5   Fevereiro  \n",
       "7        Maio  \n",
       "8    Novembro  \n",
       "9      Agosto  \n",
       "11      Junho  "
      ]
     },
     "execution_count": 9,
     "metadata": {},
     "output_type": "execute_result"
    }
   ],
   "source": [
    "dadosexp22.head(8)"
   ]
  },
  {
   "cell_type": "markdown",
   "id": "53f818fa",
   "metadata": {},
   "source": [
    "> Informações sobre a receita 'bruta' total obtida com as Exportações Brasileiras (Brasil -> Comércio Exterior) e o total de operações."
   ]
  },
  {
   "cell_type": "code",
   "execution_count": 10,
   "id": "ffe77311",
   "metadata": {
    "scrolled": true
   },
   "outputs": [],
   "source": [
    "# Altero o tipo das colunas que serão utilizadas\n",
    "dadosexp22['Total_em_Dólar'] = dadosexp22['Total_em_Dólar'].astype('int')"
   ]
  },
  {
   "cell_type": "code",
   "execution_count": 11,
   "id": "48f34aaf",
   "metadata": {},
   "outputs": [],
   "source": [
    "# Calculando os valores das importações 2022\n",
    "expor_total22 = dadosexp22[\"Total_em_Dólar\"].sum()\n",
    "expor_count22 = dadosexp22[\"Total_em_Dólar\"].count()\n",
    "expor_media22 = dadosexp22[\"Total_em_Dólar\"].mean()"
   ]
  },
  {
   "cell_type": "code",
   "execution_count": 12,
   "id": "b8e779b8",
   "metadata": {},
   "outputs": [],
   "source": [
    "# Crio um dataframe utilizando o \"pandas\"\n",
    "exportacoes22 = pd.DataFrame({\"Ano\": [\"2022\"],\n",
    "                              \"Total_de_Transacoes\": expor_count22,\n",
    "                              \"Receita_Total_Exportacoes\": expor_total22,\n",
    "                              \"Valor_medio_das_Exportacoes\": expor_media22})\n",
    "# Incluo uma coluna no meu DF com passando o 'Index'\n",
    "exportacoes22[\"exportacoes22_id\"] = exportacoes22.index"
   ]
  },
  {
   "cell_type": "code",
   "execution_count": 13,
   "id": "b384961c",
   "metadata": {
    "scrolled": true
   },
   "outputs": [],
   "source": [
    "# Edito a formatação numérica das colunas \n",
    "exportacoes22 [\"Total_de_Transacoes\"] = exportacoes22[\"Total_de_Transacoes\"].map(\"{:,.0f}\".format)\n",
    "exportacoes22 [\"Receita_Total_Exportacoes\"] = exportacoes22[\"Receita_Total_Exportacoes\"].map(\"${:,.0f}\".format)\n",
    "exportacoes22 [\"Valor_medio_das_Exportacoes\"] = exportacoes22[\"Valor_medio_das_Exportacoes\"].map(\"${:,.0f}\".format)"
   ]
  },
  {
   "cell_type": "code",
   "execution_count": 14,
   "id": "6ac5333f",
   "metadata": {},
   "outputs": [],
   "source": [
    "# Faço uma 'Reordenação' do DF\n",
    "exportacoes22 = exportacoes22[['exportacoes22_id','Ano','Total_de_Transacoes',\n",
    "                               'Receita_Total_Exportacoes','Valor_medio_das_Exportacoes']]"
   ]
  },
  {
   "cell_type": "code",
   "execution_count": 15,
   "id": "d091e4f1",
   "metadata": {
    "scrolled": true
   },
   "outputs": [
    {
     "data": {
      "text/html": [
       "<div>\n",
       "<style scoped>\n",
       "    .dataframe tbody tr th:only-of-type {\n",
       "        vertical-align: middle;\n",
       "    }\n",
       "\n",
       "    .dataframe tbody tr th {\n",
       "        vertical-align: top;\n",
       "    }\n",
       "\n",
       "    .dataframe thead th {\n",
       "        text-align: right;\n",
       "    }\n",
       "</style>\n",
       "<table border=\"1\" class=\"dataframe\">\n",
       "  <thead>\n",
       "    <tr style=\"text-align: right;\">\n",
       "      <th></th>\n",
       "      <th>exportacoes22_id</th>\n",
       "      <th>Ano</th>\n",
       "      <th>Total_de_Transacoes</th>\n",
       "      <th>Receita_Total_Exportacoes</th>\n",
       "      <th>Valor_medio_das_Exportacoes</th>\n",
       "    </tr>\n",
       "  </thead>\n",
       "  <tbody>\n",
       "    <tr>\n",
       "      <th>0</th>\n",
       "      <td>0</td>\n",
       "      <td>2022</td>\n",
       "      <td>994,112</td>\n",
       "      <td>$307,283,561,759</td>\n",
       "      <td>$309,104</td>\n",
       "    </tr>\n",
       "  </tbody>\n",
       "</table>\n",
       "</div>"
      ],
      "text/plain": [
       "   exportacoes22_id   Ano Total_de_Transacoes Receita_Total_Exportacoes  \\\n",
       "0                 0  2022             994,112          $307,283,561,759   \n",
       "\n",
       "  Valor_medio_das_Exportacoes  \n",
       "0                    $309,104  "
      ]
     },
     "execution_count": 15,
     "metadata": {},
     "output_type": "execute_result"
    }
   ],
   "source": [
    "exportacoes22"
   ]
  },
  {
   "cell_type": "markdown",
   "id": "ec062629",
   "metadata": {},
   "source": [
    "> Faço um resumo, individual, da receita 'bruta' obtida com as Exportações por cada Estado Brasileiro."
   ]
  },
  {
   "cell_type": "code",
   "execution_count": 16,
   "id": "16ee303d",
   "metadata": {},
   "outputs": [],
   "source": [
    "# Inicio agrupando os valores/operações de cada estado e realizo os devidos calculos\n",
    "uf_total22 = dadosexp22.groupby('Estado')['Total_em_Dólar'].sum()\n",
    "uf_media22 = dadosexp22.groupby(\"Estado\")[\"Total_em_Dólar\"].mean()\n",
    "uf_operacoes22 = dadosexp22.groupby(\"Estado\")[\"Total_em_Dólar\"].count()"
   ]
  },
  {
   "cell_type": "code",
   "execution_count": 17,
   "id": "fd3d7bc3",
   "metadata": {},
   "outputs": [],
   "source": [
    "# Crio um DataFrame para armazenar os Valores agrupados\n",
    "uf_analises22 = pd.DataFrame({\"Numero_de_Transacoes\" : uf_operacoes22,\n",
    "                              \"Valor_medio_das_Exportacoes\" : uf_media22,\n",
    "                              \"Valor_total_das_Exportacoes\" : uf_total22})\n",
    "\n",
    "#  Incluo uma coluna no meu DF com passando o 'Index'\n",
    "uf_analises22[\"Uf_analises22_id\"] = uf_analises22.index"
   ]
  },
  {
   "cell_type": "code",
   "execution_count": 18,
   "id": "ee8eabb3",
   "metadata": {},
   "outputs": [],
   "source": [
    "# Edito a formatação numérica dos dados\n",
    "uf_analises22 = uf_analises22.round(2)\n",
    "uf_analises22 [\"Valor_medio_das_Exportacoes\"] = uf_analises22[\"Valor_medio_das_Exportacoes\"].map(\"${:,.2f}\".format)\n",
    "uf_analises22 [\"Valor_total_das_Exportacoes\"] = uf_analises22[\"Valor_total_das_Exportacoes\"].map(\"${:,.2f}\".format)"
   ]
  },
  {
   "cell_type": "code",
   "execution_count": 19,
   "id": "ece80dd4",
   "metadata": {},
   "outputs": [],
   "source": [
    "# Faço uma 'Reordenação' do DF\n",
    "uf_analises22 = uf_analises22[['Uf_analises22_id','Numero_de_Transacoes','Valor_total_das_Exportacoes',\n",
    "                               'Valor_medio_das_Exportacoes']]"
   ]
  },
  {
   "cell_type": "code",
   "execution_count": 20,
   "id": "237a9bba",
   "metadata": {},
   "outputs": [
    {
     "data": {
      "text/html": [
       "<div>\n",
       "<style scoped>\n",
       "    .dataframe tbody tr th:only-of-type {\n",
       "        vertical-align: middle;\n",
       "    }\n",
       "\n",
       "    .dataframe tbody tr th {\n",
       "        vertical-align: top;\n",
       "    }\n",
       "\n",
       "    .dataframe thead th {\n",
       "        text-align: right;\n",
       "    }\n",
       "</style>\n",
       "<table border=\"1\" class=\"dataframe\">\n",
       "  <thead>\n",
       "    <tr style=\"text-align: right;\">\n",
       "      <th></th>\n",
       "      <th>Uf_analises22_id</th>\n",
       "      <th>Numero_de_Transacoes</th>\n",
       "      <th>Valor_total_das_Exportacoes</th>\n",
       "      <th>Valor_medio_das_Exportacoes</th>\n",
       "    </tr>\n",
       "    <tr>\n",
       "      <th>Estado</th>\n",
       "      <th></th>\n",
       "      <th></th>\n",
       "      <th></th>\n",
       "      <th></th>\n",
       "    </tr>\n",
       "  </thead>\n",
       "  <tbody>\n",
       "    <tr>\n",
       "      <th>Acre</th>\n",
       "      <td>Acre</td>\n",
       "      <td>1036</td>\n",
       "      <td>$38,419,535.00</td>\n",
       "      <td>$37,084.49</td>\n",
       "    </tr>\n",
       "    <tr>\n",
       "      <th>Alagoas</th>\n",
       "      <td>Alagoas</td>\n",
       "      <td>6910</td>\n",
       "      <td>$383,458,865.00</td>\n",
       "      <td>$55,493.32</td>\n",
       "    </tr>\n",
       "    <tr>\n",
       "      <th>Amapá</th>\n",
       "      <td>Amapá</td>\n",
       "      <td>2409</td>\n",
       "      <td>$178,741,199.00</td>\n",
       "      <td>$74,197.26</td>\n",
       "    </tr>\n",
       "    <tr>\n",
       "      <th>Amazonas</th>\n",
       "      <td>Amazonas</td>\n",
       "      <td>7586</td>\n",
       "      <td>$1,029,263,696.00</td>\n",
       "      <td>$135,679.37</td>\n",
       "    </tr>\n",
       "    <tr>\n",
       "      <th>Bahia</th>\n",
       "      <td>Bahia</td>\n",
       "      <td>19338</td>\n",
       "      <td>$12,631,785,259.00</td>\n",
       "      <td>$653,210.53</td>\n",
       "    </tr>\n",
       "    <tr>\n",
       "      <th>Ceará</th>\n",
       "      <td>Ceará</td>\n",
       "      <td>13609</td>\n",
       "      <td>$2,136,946,280.00</td>\n",
       "      <td>$157,024.49</td>\n",
       "    </tr>\n",
       "    <tr>\n",
       "      <th>Distrito Federal</th>\n",
       "      <td>Distrito Federal</td>\n",
       "      <td>977</td>\n",
       "      <td>$117,350,618.00</td>\n",
       "      <td>$120,113.22</td>\n",
       "    </tr>\n",
       "    <tr>\n",
       "      <th>Espírito Santo</th>\n",
       "      <td>Espírito Santo</td>\n",
       "      <td>30438</td>\n",
       "      <td>$8,601,362,892.00</td>\n",
       "      <td>$282,586.34</td>\n",
       "    </tr>\n",
       "    <tr>\n",
       "      <th>Exterior</th>\n",
       "      <td>Exterior</td>\n",
       "      <td>24</td>\n",
       "      <td>$274,992.00</td>\n",
       "      <td>$11,458.00</td>\n",
       "    </tr>\n",
       "    <tr>\n",
       "      <th>Goiás</th>\n",
       "      <td>Goiás</td>\n",
       "      <td>8472</td>\n",
       "      <td>$11,468,117,724.00</td>\n",
       "      <td>$1,353,649.40</td>\n",
       "    </tr>\n",
       "    <tr>\n",
       "      <th>Maranhão</th>\n",
       "      <td>Maranhão</td>\n",
       "      <td>18962</td>\n",
       "      <td>$5,400,186,507.00</td>\n",
       "      <td>$284,789.92</td>\n",
       "    </tr>\n",
       "    <tr>\n",
       "      <th>Mato Grosso</th>\n",
       "      <td>Mato Grosso</td>\n",
       "      <td>10154</td>\n",
       "      <td>$27,882,286,912.00</td>\n",
       "      <td>$2,745,941.20</td>\n",
       "    </tr>\n",
       "    <tr>\n",
       "      <th>Mato Grosso do Sul</th>\n",
       "      <td>Mato Grosso do Sul</td>\n",
       "      <td>8011</td>\n",
       "      <td>$5,272,255,725.00</td>\n",
       "      <td>$658,127.04</td>\n",
       "    </tr>\n",
       "    <tr>\n",
       "      <th>Minas Gerais</th>\n",
       "      <td>Minas Gerais</td>\n",
       "      <td>49615</td>\n",
       "      <td>$33,570,846,237.00</td>\n",
       "      <td>$676,626.95</td>\n",
       "    </tr>\n",
       "    <tr>\n",
       "      <th>Paraná</th>\n",
       "      <td>Paraná</td>\n",
       "      <td>92571</td>\n",
       "      <td>$23,794,333,990.00</td>\n",
       "      <td>$257,038.75</td>\n",
       "    </tr>\n",
       "    <tr>\n",
       "      <th>Paraíba</th>\n",
       "      <td>Paraíba</td>\n",
       "      <td>1217</td>\n",
       "      <td>$241,440,359.00</td>\n",
       "      <td>$198,389.78</td>\n",
       "    </tr>\n",
       "    <tr>\n",
       "      <th>Pará</th>\n",
       "      <td>Pará</td>\n",
       "      <td>16045</td>\n",
       "      <td>$19,984,234,177.00</td>\n",
       "      <td>$1,245,511.63</td>\n",
       "    </tr>\n",
       "    <tr>\n",
       "      <th>Pernambuco</th>\n",
       "      <td>Pernambuco</td>\n",
       "      <td>5736</td>\n",
       "      <td>$2,837,711,859.00</td>\n",
       "      <td>$494,719.64</td>\n",
       "    </tr>\n",
       "    <tr>\n",
       "      <th>Piauí</th>\n",
       "      <td>Piauí</td>\n",
       "      <td>578</td>\n",
       "      <td>$1,281,448,537.00</td>\n",
       "      <td>$2,217,038.99</td>\n",
       "    </tr>\n",
       "    <tr>\n",
       "      <th>Rio Grande do Norte</th>\n",
       "      <td>Rio Grande do Norte</td>\n",
       "      <td>1588</td>\n",
       "      <td>$311,684,361.00</td>\n",
       "      <td>$196,274.79</td>\n",
       "    </tr>\n",
       "    <tr>\n",
       "      <th>Rio Grande do Sul</th>\n",
       "      <td>Rio Grande do Sul</td>\n",
       "      <td>120580</td>\n",
       "      <td>$19,134,027,670.00</td>\n",
       "      <td>$158,683.26</td>\n",
       "    </tr>\n",
       "    <tr>\n",
       "      <th>Rio de Janeiro</th>\n",
       "      <td>Rio de Janeiro</td>\n",
       "      <td>43494</td>\n",
       "      <td>$44,388,523,232.00</td>\n",
       "      <td>$1,020,566.59</td>\n",
       "    </tr>\n",
       "    <tr>\n",
       "      <th>Rondônia</th>\n",
       "      <td>Rondônia</td>\n",
       "      <td>2629</td>\n",
       "      <td>$2,061,733,205.00</td>\n",
       "      <td>$784,227.16</td>\n",
       "    </tr>\n",
       "    <tr>\n",
       "      <th>Roraima</th>\n",
       "      <td>Roraima</td>\n",
       "      <td>2349</td>\n",
       "      <td>$434,957,399.00</td>\n",
       "      <td>$185,167.05</td>\n",
       "    </tr>\n",
       "    <tr>\n",
       "      <th>Santa Catarina</th>\n",
       "      <td>Santa Catarina</td>\n",
       "      <td>98242</td>\n",
       "      <td>$13,252,294,898.00</td>\n",
       "      <td>$134,894.39</td>\n",
       "    </tr>\n",
       "    <tr>\n",
       "      <th>Sergipe</th>\n",
       "      <td>Sergipe</td>\n",
       "      <td>602</td>\n",
       "      <td>$118,258,743.00</td>\n",
       "      <td>$196,443.09</td>\n",
       "    </tr>\n",
       "    <tr>\n",
       "      <th>São Paulo</th>\n",
       "      <td>São Paulo</td>\n",
       "      <td>429759</td>\n",
       "      <td>$68,072,630,251.00</td>\n",
       "      <td>$158,397.22</td>\n",
       "    </tr>\n",
       "    <tr>\n",
       "      <th>Tocantins</th>\n",
       "      <td>Tocantins</td>\n",
       "      <td>1181</td>\n",
       "      <td>$2,658,986,637.00</td>\n",
       "      <td>$2,251,470.48</td>\n",
       "    </tr>\n",
       "  </tbody>\n",
       "</table>\n",
       "</div>"
      ],
      "text/plain": [
       "                        Uf_analises22_id  Numero_de_Transacoes  \\\n",
       "Estado                                                           \n",
       "Acre                                Acre                  1036   \n",
       "Alagoas                          Alagoas                  6910   \n",
       "Amapá                              Amapá                  2409   \n",
       "Amazonas                        Amazonas                  7586   \n",
       "Bahia                              Bahia                 19338   \n",
       "Ceará                              Ceará                 13609   \n",
       "Distrito Federal        Distrito Federal                   977   \n",
       "Espírito Santo            Espírito Santo                 30438   \n",
       "Exterior                        Exterior                    24   \n",
       "Goiás                              Goiás                  8472   \n",
       "Maranhão                        Maranhão                 18962   \n",
       "Mato Grosso                  Mato Grosso                 10154   \n",
       "Mato Grosso do Sul    Mato Grosso do Sul                  8011   \n",
       "Minas Gerais                Minas Gerais                 49615   \n",
       "Paraná                            Paraná                 92571   \n",
       "Paraíba                          Paraíba                  1217   \n",
       "Pará                                Pará                 16045   \n",
       "Pernambuco                    Pernambuco                  5736   \n",
       "Piauí                              Piauí                   578   \n",
       "Rio Grande do Norte  Rio Grande do Norte                  1588   \n",
       "Rio Grande do Sul      Rio Grande do Sul                120580   \n",
       "Rio de Janeiro            Rio de Janeiro                 43494   \n",
       "Rondônia                        Rondônia                  2629   \n",
       "Roraima                          Roraima                  2349   \n",
       "Santa Catarina            Santa Catarina                 98242   \n",
       "Sergipe                          Sergipe                   602   \n",
       "São Paulo                      São Paulo                429759   \n",
       "Tocantins                      Tocantins                  1181   \n",
       "\n",
       "                    Valor_total_das_Exportacoes Valor_medio_das_Exportacoes  \n",
       "Estado                                                                       \n",
       "Acre                             $38,419,535.00                  $37,084.49  \n",
       "Alagoas                         $383,458,865.00                  $55,493.32  \n",
       "Amapá                           $178,741,199.00                  $74,197.26  \n",
       "Amazonas                      $1,029,263,696.00                 $135,679.37  \n",
       "Bahia                        $12,631,785,259.00                 $653,210.53  \n",
       "Ceará                         $2,136,946,280.00                 $157,024.49  \n",
       "Distrito Federal                $117,350,618.00                 $120,113.22  \n",
       "Espírito Santo                $8,601,362,892.00                 $282,586.34  \n",
       "Exterior                            $274,992.00                  $11,458.00  \n",
       "Goiás                        $11,468,117,724.00               $1,353,649.40  \n",
       "Maranhão                      $5,400,186,507.00                 $284,789.92  \n",
       "Mato Grosso                  $27,882,286,912.00               $2,745,941.20  \n",
       "Mato Grosso do Sul            $5,272,255,725.00                 $658,127.04  \n",
       "Minas Gerais                 $33,570,846,237.00                 $676,626.95  \n",
       "Paraná                       $23,794,333,990.00                 $257,038.75  \n",
       "Paraíba                         $241,440,359.00                 $198,389.78  \n",
       "Pará                         $19,984,234,177.00               $1,245,511.63  \n",
       "Pernambuco                    $2,837,711,859.00                 $494,719.64  \n",
       "Piauí                         $1,281,448,537.00               $2,217,038.99  \n",
       "Rio Grande do Norte             $311,684,361.00                 $196,274.79  \n",
       "Rio Grande do Sul            $19,134,027,670.00                 $158,683.26  \n",
       "Rio de Janeiro               $44,388,523,232.00               $1,020,566.59  \n",
       "Rondônia                      $2,061,733,205.00                 $784,227.16  \n",
       "Roraima                         $434,957,399.00                 $185,167.05  \n",
       "Santa Catarina               $13,252,294,898.00                 $134,894.39  \n",
       "Sergipe                         $118,258,743.00                 $196,443.09  \n",
       "São Paulo                    $68,072,630,251.00                 $158,397.22  \n",
       "Tocantins                     $2,658,986,637.00               $2,251,470.48  "
      ]
     },
     "execution_count": 20,
     "metadata": {},
     "output_type": "execute_result"
    }
   ],
   "source": [
    "uf_analises22"
   ]
  },
  {
   "cell_type": "markdown",
   "id": "dd316a7f",
   "metadata": {},
   "source": [
    "> Detalhamento individual dos valores arrecadados por cada Munícipio/Sede das Empresas Exportadoras."
   ]
  },
  {
   "cell_type": "code",
   "execution_count": 21,
   "id": "50fe59c9",
   "metadata": {},
   "outputs": [],
   "source": [
    "# Inicio agrupando os valores/operações de cada estado e realizo os devidos calculos\n",
    "mun_total22 = dadosexp22.groupby(\"Municipio\")[\"Total_em_Dólar\"].sum()\n",
    "mun_media22 = dadosexp22.groupby(\"Municipio\")[\"Total_em_Dólar\"].mean()\n",
    "mun_operacoes22 = dadosexp22.groupby(\"Municipio\")[\"Total_em_Dólar\"].count()"
   ]
  },
  {
   "cell_type": "code",
   "execution_count": 22,
   "id": "b63f2897",
   "metadata": {},
   "outputs": [],
   "source": [
    "# Criando um DataFrame dos Municípios com os valores agrupados\n",
    "mun_analises22 = pd.DataFrame({\"Numero_de_Vendas_para_o_Exterior\" : mun_operacoes22,\n",
    "                               \"Valor_medio_das_Exportacoes\" : mun_media22,\n",
    "                               \"Valor_total_das_Exportacoes\" : mun_total22})\n",
    "\n",
    "\n",
    "#  Incluo uma coluna no meu DF com passando o 'Index'\n",
    "mun_analises22[\"Mun_analises22_id\"] = mun_analises22.index"
   ]
  },
  {
   "cell_type": "code",
   "execution_count": 23,
   "id": "a0532301",
   "metadata": {},
   "outputs": [],
   "source": [
    "# Edito a formatação numérica dos dados\n",
    "mun_analises22 [\"Valor_total_das_Exportacoes\"] = mun_analises22[\"Valor_total_das_Exportacoes\"].map(\"${:,.0f}\".format)\n",
    "mun_analises22 [\"Valor_medio_das_Exportacoes\"] = mun_analises22[\"Valor_medio_das_Exportacoes\"].map(\"${:,.0f}\".format)"
   ]
  },
  {
   "cell_type": "code",
   "execution_count": 24,
   "id": "7b67e6ee",
   "metadata": {},
   "outputs": [],
   "source": [
    "# Faço uma 'Reordenação' do DF\n",
    "mun_analises22 = mun_analises22[[\"Mun_analises22_id\",\"Numero_de_Vendas_para_o_Exterior\",\n",
    "                                 \"Valor_total_das_Exportacoes\", \"Valor_medio_das_Exportacoes\"]]"
   ]
  },
  {
   "cell_type": "code",
   "execution_count": 25,
   "id": "64a0cafe",
   "metadata": {},
   "outputs": [
    {
     "data": {
      "text/html": [
       "<div>\n",
       "<style scoped>\n",
       "    .dataframe tbody tr th:only-of-type {\n",
       "        vertical-align: middle;\n",
       "    }\n",
       "\n",
       "    .dataframe tbody tr th {\n",
       "        vertical-align: top;\n",
       "    }\n",
       "\n",
       "    .dataframe thead th {\n",
       "        text-align: right;\n",
       "    }\n",
       "</style>\n",
       "<table border=\"1\" class=\"dataframe\">\n",
       "  <thead>\n",
       "    <tr style=\"text-align: right;\">\n",
       "      <th></th>\n",
       "      <th>Mun_analises22_id</th>\n",
       "      <th>Numero_de_Vendas_para_o_Exterior</th>\n",
       "      <th>Valor_total_das_Exportacoes</th>\n",
       "      <th>Valor_medio_das_Exportacoes</th>\n",
       "    </tr>\n",
       "    <tr>\n",
       "      <th>Municipio</th>\n",
       "      <th></th>\n",
       "      <th></th>\n",
       "      <th></th>\n",
       "      <th></th>\n",
       "    </tr>\n",
       "  </thead>\n",
       "  <tbody>\n",
       "    <tr>\n",
       "      <th>Santos</th>\n",
       "      <td>Santos</td>\n",
       "      <td>43036</td>\n",
       "      <td>$4,366,825,933</td>\n",
       "      <td>$101,469</td>\n",
       "    </tr>\n",
       "    <tr>\n",
       "      <th>São Paulo</th>\n",
       "      <td>São Paulo</td>\n",
       "      <td>40041</td>\n",
       "      <td>$4,044,612,427</td>\n",
       "      <td>$101,012</td>\n",
       "    </tr>\n",
       "    <tr>\n",
       "      <th>Sorocaba</th>\n",
       "      <td>Sorocaba</td>\n",
       "      <td>22010</td>\n",
       "      <td>$1,997,408,697</td>\n",
       "      <td>$90,750</td>\n",
       "    </tr>\n",
       "    <tr>\n",
       "      <th>Rio de Janeiro</th>\n",
       "      <td>Rio de Janeiro</td>\n",
       "      <td>21469</td>\n",
       "      <td>$19,862,874,716</td>\n",
       "      <td>$925,189</td>\n",
       "    </tr>\n",
       "    <tr>\n",
       "      <th>Campinas</th>\n",
       "      <td>Campinas</td>\n",
       "      <td>18223</td>\n",
       "      <td>$931,524,655</td>\n",
       "      <td>$51,118</td>\n",
       "    </tr>\n",
       "    <tr>\n",
       "      <th>Paranaguá</th>\n",
       "      <td>Paranaguá</td>\n",
       "      <td>17607</td>\n",
       "      <td>$5,630,503,485</td>\n",
       "      <td>$319,788</td>\n",
       "    </tr>\n",
       "    <tr>\n",
       "      <th>Jundiaí</th>\n",
       "      <td>Jundiaí</td>\n",
       "      <td>16683</td>\n",
       "      <td>$646,120,151</td>\n",
       "      <td>$38,729</td>\n",
       "    </tr>\n",
       "    <tr>\n",
       "      <th>Guarulhos</th>\n",
       "      <td>Guarulhos</td>\n",
       "      <td>15878</td>\n",
       "      <td>$2,013,724,472</td>\n",
       "      <td>$126,825</td>\n",
       "    </tr>\n",
       "  </tbody>\n",
       "</table>\n",
       "</div>"
      ],
      "text/plain": [
       "               Mun_analises22_id  Numero_de_Vendas_para_o_Exterior  \\\n",
       "Municipio                                                            \n",
       "Santos                    Santos                             43036   \n",
       "São Paulo              São Paulo                             40041   \n",
       "Sorocaba                Sorocaba                             22010   \n",
       "Rio de Janeiro    Rio de Janeiro                             21469   \n",
       "Campinas                Campinas                             18223   \n",
       "Paranaguá              Paranaguá                             17607   \n",
       "Jundiaí                  Jundiaí                             16683   \n",
       "Guarulhos              Guarulhos                             15878   \n",
       "\n",
       "               Valor_total_das_Exportacoes Valor_medio_das_Exportacoes  \n",
       "Municipio                                                               \n",
       "Santos                      $4,366,825,933                    $101,469  \n",
       "São Paulo                   $4,044,612,427                    $101,012  \n",
       "Sorocaba                    $1,997,408,697                     $90,750  \n",
       "Rio de Janeiro             $19,862,874,716                    $925,189  \n",
       "Campinas                      $931,524,655                     $51,118  \n",
       "Paranaguá                   $5,630,503,485                    $319,788  \n",
       "Jundiaí                       $646,120,151                     $38,729  \n",
       "Guarulhos                   $2,013,724,472                    $126,825  "
      ]
     },
     "execution_count": 25,
     "metadata": {},
     "output_type": "execute_result"
    }
   ],
   "source": [
    "mun_analises22.sort_values(by=\"Numero_de_Vendas_para_o_Exterior\", ascending=False).head(8)"
   ]
  },
  {
   "cell_type": "markdown",
   "id": "a89a6e2a",
   "metadata": {},
   "source": [
    "> Principais destinos das Exportações Brasileiras. "
   ]
  },
  {
   "cell_type": "code",
   "execution_count": 26,
   "id": "c9ee19b2",
   "metadata": {},
   "outputs": [],
   "source": [
    "model_22 = dadosexp22[\"Pais(dest)\"]\n",
    "model_22.index = range(0, 994112, 1)"
   ]
  },
  {
   "cell_type": "code",
   "execution_count": 27,
   "id": "7930f15d",
   "metadata": {},
   "outputs": [
    {
     "data": {
      "text/plain": [
       "0                Uruguai\n",
       "1                 Panamá\n",
       "2              Argentina\n",
       "3         Estados Unidos\n",
       "4                Bahamas\n",
       "               ...      \n",
       "994107        Luxemburgo\n",
       "994108          Paraguai\n",
       "994109           Equador\n",
       "994110             Suíça\n",
       "994111               NaN\n",
       "Name: Pais(dest), Length: 994112, dtype: object"
      ]
     },
     "execution_count": 27,
     "metadata": {},
     "output_type": "execute_result"
    }
   ],
   "source": [
    "model_22"
   ]
  },
  {
   "cell_type": "code",
   "execution_count": 28,
   "id": "fc7339b0",
   "metadata": {},
   "outputs": [],
   "source": [
    "destinos_22 = [str(i) for i in model_22]"
   ]
  },
  {
   "cell_type": "code",
   "execution_count": 29,
   "id": "efb49118",
   "metadata": {},
   "outputs": [],
   "source": [
    "# Criando um vetor\n",
    "vetor_destinos22 = CountVectorizer(analyzer = 'word', lowercase=False)"
   ]
  },
  {
   "cell_type": "code",
   "execution_count": 30,
   "id": "fbb3a944",
   "metadata": {},
   "outputs": [],
   "source": [
    "# Vetorizando o dataset\n",
    "destinos22 = vetor_destinos22.fit_transform(destinos_22)"
   ]
  },
  {
   "cell_type": "code",
   "execution_count": 31,
   "id": "fe52ee3f",
   "metadata": {},
   "outputs": [],
   "source": [
    "# Retornando paises únicos\n",
    "destinos_unicos22 = vetor_destinos22.get_feature_names_out()"
   ]
  },
  {
   "cell_type": "code",
   "execution_count": 32,
   "id": "28c9a3af",
   "metadata": {},
   "outputs": [],
   "source": [
    "# Criar um novo DataFrame dos Paises\n",
    "dfdestinos22 = pd.DataFrame(destinos22.todense(), columns = destinos_unicos22, index = model_22.index)"
   ]
  },
  {
   "cell_type": "code",
   "execution_count": 33,
   "id": "dbaaa170",
   "metadata": {},
   "outputs": [],
   "source": [
    "# Calcular o percentual \n",
    "porcent_destinos22 = 100 * pd.Series(dfdestinos22.sum()).sort_values(ascending = False) / dfdestinos22.shape[0]"
   ]
  },
  {
   "cell_type": "code",
   "execution_count": 34,
   "id": "3487c5bf",
   "metadata": {},
   "outputs": [],
   "source": [
    "# Faço a 'limpeza' de 'Dados' reconhecidos com 'nan'\n",
    "porcent_destinos22.drop([\"nan\"], inplace=True)"
   ]
  },
  {
   "cell_type": "code",
   "execution_count": 35,
   "id": "b22405ab",
   "metadata": {},
   "outputs": [],
   "source": [
    "# Crio um DF para melhor aproveitamento dos Dados\n",
    "porcentagem_dest22 = pd.DataFrame({'Destinos22':porcent_destinos22})\n",
    "\n",
    "# Incluo o 'Index' como propriedade do DF\n",
    "porcentagem_dest22['Destinos22_id'] = porcentagem_dest22.index\n",
    "\n",
    "# Reordeno o DF\n",
    "porcentagem_dest22 = porcentagem_dest22[['Destinos22_id','Destinos22']]"
   ]
  },
  {
   "cell_type": "code",
   "execution_count": 36,
   "id": "7a5e9cdf",
   "metadata": {
    "scrolled": true
   },
   "outputs": [
    {
     "data": {
      "text/html": [
       "<div>\n",
       "<style scoped>\n",
       "    .dataframe tbody tr th:only-of-type {\n",
       "        vertical-align: middle;\n",
       "    }\n",
       "\n",
       "    .dataframe tbody tr th {\n",
       "        vertical-align: top;\n",
       "    }\n",
       "\n",
       "    .dataframe thead th {\n",
       "        text-align: right;\n",
       "    }\n",
       "</style>\n",
       "<table border=\"1\" class=\"dataframe\">\n",
       "  <thead>\n",
       "    <tr style=\"text-align: right;\">\n",
       "      <th></th>\n",
       "      <th>Destinos22_id</th>\n",
       "      <th>Destinos22</th>\n",
       "    </tr>\n",
       "  </thead>\n",
       "  <tbody>\n",
       "    <tr>\n",
       "      <th>Unidos</th>\n",
       "      <td>Unidos</td>\n",
       "      <td>7.761097</td>\n",
       "    </tr>\n",
       "    <tr>\n",
       "      <th>Estados</th>\n",
       "      <td>Estados</td>\n",
       "      <td>7.030596</td>\n",
       "    </tr>\n",
       "    <tr>\n",
       "      <th>Paraguai</th>\n",
       "      <td>Paraguai</td>\n",
       "      <td>6.608410</td>\n",
       "    </tr>\n",
       "    <tr>\n",
       "      <th>Uruguai</th>\n",
       "      <td>Uruguai</td>\n",
       "      <td>4.832152</td>\n",
       "    </tr>\n",
       "    <tr>\n",
       "      <th>Chile</th>\n",
       "      <td>Chile</td>\n",
       "      <td>4.513375</td>\n",
       "    </tr>\n",
       "    <tr>\n",
       "      <th>Colômbia</th>\n",
       "      <td>Colômbia</td>\n",
       "      <td>3.728151</td>\n",
       "    </tr>\n",
       "    <tr>\n",
       "      <th>Peru</th>\n",
       "      <td>Peru</td>\n",
       "      <td>3.154675</td>\n",
       "    </tr>\n",
       "    <tr>\n",
       "      <th>México</th>\n",
       "      <td>México</td>\n",
       "      <td>2.979242</td>\n",
       "    </tr>\n",
       "    <tr>\n",
       "      <th>Panamá</th>\n",
       "      <td>Panamá</td>\n",
       "      <td>2.800590</td>\n",
       "    </tr>\n",
       "    <tr>\n",
       "      <th>Ilhas</th>\n",
       "      <td>Ilhas</td>\n",
       "      <td>2.451836</td>\n",
       "    </tr>\n",
       "  </tbody>\n",
       "</table>\n",
       "</div>"
      ],
      "text/plain": [
       "         Destinos22_id  Destinos22\n",
       "Unidos          Unidos    7.761097\n",
       "Estados        Estados    7.030596\n",
       "Paraguai      Paraguai    6.608410\n",
       "Uruguai        Uruguai    4.832152\n",
       "Chile            Chile    4.513375\n",
       "Colômbia      Colômbia    3.728151\n",
       "Peru              Peru    3.154675\n",
       "México          México    2.979242\n",
       "Panamá          Panamá    2.800590\n",
       "Ilhas            Ilhas    2.451836"
      ]
     },
     "execution_count": 36,
     "metadata": {},
     "output_type": "execute_result"
    }
   ],
   "source": [
    "# Um head dos 5 primeiros \n",
    "porcentagem_dest22.head(10)"
   ]
  },
  {
   "cell_type": "markdown",
   "id": "9b3eff41",
   "metadata": {},
   "source": [
    "> Abaixo localizo os produtos mais requisitados por importadoras no Mercado Exterior."
   ]
  },
  {
   "cell_type": "code",
   "execution_count": 37,
   "id": "603e9989",
   "metadata": {},
   "outputs": [],
   "source": [
    "# Agrupo os Produtos e realizo a sua Contagem, em seguida, Somo os Valores de todas as suas Compras\n",
    "produtos_contagem22 = dadosexp22.groupby(\"Produtos\")[\"Total_em_Dólar\"].count()\n",
    "produtos_soma22 = dadosexp22.groupby(\"Produtos\")[\"Total_em_Dólar\"].sum()"
   ]
  },
  {
   "cell_type": "code",
   "execution_count": 38,
   "id": "c8eeb4b7",
   "metadata": {},
   "outputs": [],
   "source": [
    "# Crio um DF com os valores acima\n",
    "produtosunicos22 = pd.DataFrame({\"Quantidade_de_Exportacoes\" : produtos_contagem22,\n",
    "                                 \"Valor_total_das_Exportacoes\" : produtos_soma22})\n",
    "\n",
    "# Incluo o 'Index no meu DF'\n",
    "produtosunicos22['ProdutosUnicos22_id'] = produtosunicos22.index"
   ]
  },
  {
   "cell_type": "code",
   "execution_count": 39,
   "id": "aa97426f",
   "metadata": {},
   "outputs": [],
   "source": [
    "# Faço uma pequena alteração na saída \n",
    "produtosunicos22[\"Valor_total_das_Exportacoes\"] = produtosunicos22[\"Valor_total_das_Exportacoes\"].map(\"${:,.0f}\".format)"
   ]
  },
  {
   "cell_type": "code",
   "execution_count": 40,
   "id": "f2f6f870",
   "metadata": {},
   "outputs": [],
   "source": [
    "# Reordeno as 'Colunas' do meu DF\n",
    "produtosunicos22 = produtosunicos22[['ProdutosUnicos22_id',\n",
    "                                     'Quantidade_de_Exportacoes','Valor_total_das_Exportacoes']]"
   ]
  },
  {
   "cell_type": "code",
   "execution_count": 41,
   "id": "ae2c4da6",
   "metadata": {
    "scrolled": true
   },
   "outputs": [
    {
     "data": {
      "text/html": [
       "<div>\n",
       "<style scoped>\n",
       "    .dataframe tbody tr th:only-of-type {\n",
       "        vertical-align: middle;\n",
       "    }\n",
       "\n",
       "    .dataframe tbody tr th {\n",
       "        vertical-align: top;\n",
       "    }\n",
       "\n",
       "    .dataframe thead th {\n",
       "        text-align: right;\n",
       "    }\n",
       "</style>\n",
       "<table border=\"1\" class=\"dataframe\">\n",
       "  <thead>\n",
       "    <tr style=\"text-align: right;\">\n",
       "      <th></th>\n",
       "      <th>ProdutosUnicos22_id</th>\n",
       "      <th>Quantidade_de_Exportacoes</th>\n",
       "      <th>Valor_total_das_Exportacoes</th>\n",
       "    </tr>\n",
       "    <tr>\n",
       "      <th>Produtos</th>\n",
       "      <th></th>\n",
       "      <th></th>\n",
       "      <th></th>\n",
       "    </tr>\n",
       "  </thead>\n",
       "  <tbody>\n",
       "    <tr>\n",
       "      <th>Abrasivos naturais ou artificiais, em pó ou em grãos, aplicados sobre matérias têxteis, papel, cartão ou outras matérias, mesmo recortados, costurados ou reunidos de outro modo</th>\n",
       "      <td>Abrasivos naturais ou artificiais, em pó ou em...</td>\n",
       "      <td>1690</td>\n",
       "      <td>$34,452,320</td>\n",
       "    </tr>\n",
       "    <tr>\n",
       "      <th>Absorventes e tampões higiênicos, cueiros e fraldas para bebês e artigos higiênicos semelhantes, de qualquer matéria</th>\n",
       "      <td>Absorventes e tampões higiênicos, cueiros e fr...</td>\n",
       "      <td>513</td>\n",
       "      <td>$40,703,655</td>\n",
       "    </tr>\n",
       "    <tr>\n",
       "      <th>Acessórios para tubos (por exemplo, uniões, cotovelos, luvas), de alumínio</th>\n",
       "      <td>Acessórios para tubos (por exemplo, uniões, co...</td>\n",
       "      <td>716</td>\n",
       "      <td>$4,499,438</td>\n",
       "    </tr>\n",
       "    <tr>\n",
       "      <th>Acessórios para tubos [por exemplo: uniões, cotovelos, mangas (luvas)], de cobre</th>\n",
       "      <td>Acessórios para tubos [por exemplo: uniões, co...</td>\n",
       "      <td>1609</td>\n",
       "      <td>$4,722,830</td>\n",
       "    </tr>\n",
       "    <tr>\n",
       "      <th>Acessórios para tubos [por exemplo: uniões, cotovelos, mangas (luvas)], de ferro fundido, ferro ou aço</th>\n",
       "      <td>Acessórios para tubos [por exemplo: uniões, co...</td>\n",
       "      <td>3831</td>\n",
       "      <td>$84,364,312</td>\n",
       "    </tr>\n",
       "  </tbody>\n",
       "</table>\n",
       "</div>"
      ],
      "text/plain": [
       "                                                                                  ProdutosUnicos22_id  \\\n",
       "Produtos                                                                                                \n",
       "Abrasivos naturais ou artificiais, em pó ou em ...  Abrasivos naturais ou artificiais, em pó ou em...   \n",
       "Absorventes e tampões higiênicos, cueiros e fra...  Absorventes e tampões higiênicos, cueiros e fr...   \n",
       "Acessórios para tubos (por exemplo, uniões, cot...  Acessórios para tubos (por exemplo, uniões, co...   \n",
       "Acessórios para tubos [por exemplo: uniões, cot...  Acessórios para tubos [por exemplo: uniões, co...   \n",
       "Acessórios para tubos [por exemplo: uniões, cot...  Acessórios para tubos [por exemplo: uniões, co...   \n",
       "\n",
       "                                                    Quantidade_de_Exportacoes  \\\n",
       "Produtos                                                                        \n",
       "Abrasivos naturais ou artificiais, em pó ou em ...                       1690   \n",
       "Absorventes e tampões higiênicos, cueiros e fra...                        513   \n",
       "Acessórios para tubos (por exemplo, uniões, cot...                        716   \n",
       "Acessórios para tubos [por exemplo: uniões, cot...                       1609   \n",
       "Acessórios para tubos [por exemplo: uniões, cot...                       3831   \n",
       "\n",
       "                                                   Valor_total_das_Exportacoes  \n",
       "Produtos                                                                        \n",
       "Abrasivos naturais ou artificiais, em pó ou em ...                 $34,452,320  \n",
       "Absorventes e tampões higiênicos, cueiros e fra...                 $40,703,655  \n",
       "Acessórios para tubos (por exemplo, uniões, cot...                  $4,499,438  \n",
       "Acessórios para tubos [por exemplo: uniões, cot...                  $4,722,830  \n",
       "Acessórios para tubos [por exemplo: uniões, cot...                 $84,364,312  "
      ]
     },
     "execution_count": 41,
     "metadata": {},
     "output_type": "execute_result"
    }
   ],
   "source": [
    "produtosunicos22.head()"
   ]
  },
  {
   "cell_type": "markdown",
   "id": "a40b7b18",
   "metadata": {},
   "source": [
    "> Busco localizar os Meses com maiores 'picos' de vendas para o Exterior "
   ]
  },
  {
   "cell_type": "code",
   "execution_count": 42,
   "id": "d3d524db",
   "metadata": {},
   "outputs": [],
   "source": [
    "# Agrupo os Meses e realizo a sua Contagem, em seguida, Somo os Valores de todas as suas Compras\n",
    "meses_contagem22 = dadosexp22.groupby(\"Mes\")[\"Total_em_Dólar\"].count()\n",
    "meses_soma22 = dadosexp22.groupby(\"Mes\")[\"Total_em_Dólar\"].sum()"
   ]
  },
  {
   "cell_type": "code",
   "execution_count": 43,
   "id": "a5a644e9",
   "metadata": {},
   "outputs": [],
   "source": [
    "# Crio um DF com os valores acima\n",
    "principal_mes22 = pd.DataFrame({\"Quantidade_de_Exportacoes_no_Mes\" : meses_contagem22,\n",
    "                                 \"Valor_total_das_Exportacoes_no_Mes\" : meses_soma22})\n",
    "\n",
    "# Incluo o 'Index no meu DF'\n",
    "principal_mes22['principal_mes22_id'] = principal_mes22.index"
   ]
  },
  {
   "cell_type": "code",
   "execution_count": 44,
   "id": "9250cffe",
   "metadata": {},
   "outputs": [],
   "source": [
    "# Faço uma pequena alteração na saída \n",
    "principal_mes22[\"Valor_total_das_Exportacoes_no_Mes\"] = principal_mes22[\"Valor_total_das_Exportacoes_no_Mes\"].map(\"${:,.0f}\".format)"
   ]
  },
  {
   "cell_type": "code",
   "execution_count": 45,
   "id": "d3012f7e",
   "metadata": {},
   "outputs": [],
   "source": [
    "# Reordeno as 'Colunas' do meu DF\n",
    "principal_mes22 = principal_mes22[['principal_mes22_id',\n",
    "                                   'Quantidade_de_Exportacoes_no_Mes','Valor_total_das_Exportacoes_no_Mes']]"
   ]
  },
  {
   "cell_type": "code",
   "execution_count": 46,
   "id": "7c09bd51",
   "metadata": {
    "scrolled": true
   },
   "outputs": [
    {
     "data": {
      "text/html": [
       "<div>\n",
       "<style scoped>\n",
       "    .dataframe tbody tr th:only-of-type {\n",
       "        vertical-align: middle;\n",
       "    }\n",
       "\n",
       "    .dataframe tbody tr th {\n",
       "        vertical-align: top;\n",
       "    }\n",
       "\n",
       "    .dataframe thead th {\n",
       "        text-align: right;\n",
       "    }\n",
       "</style>\n",
       "<table border=\"1\" class=\"dataframe\">\n",
       "  <thead>\n",
       "    <tr style=\"text-align: right;\">\n",
       "      <th></th>\n",
       "      <th>principal_mes22_id</th>\n",
       "      <th>Quantidade_de_Exportacoes_no_Mes</th>\n",
       "      <th>Valor_total_das_Exportacoes_no_Mes</th>\n",
       "    </tr>\n",
       "    <tr>\n",
       "      <th>Mes</th>\n",
       "      <th></th>\n",
       "      <th></th>\n",
       "      <th></th>\n",
       "    </tr>\n",
       "  </thead>\n",
       "  <tbody>\n",
       "    <tr>\n",
       "      <th>Junho</th>\n",
       "      <td>Junho</td>\n",
       "      <td>93860</td>\n",
       "      <td>$32,742,194,543</td>\n",
       "    </tr>\n",
       "    <tr>\n",
       "      <th>Agosto</th>\n",
       "      <td>Agosto</td>\n",
       "      <td>95306</td>\n",
       "      <td>$30,786,908,834</td>\n",
       "    </tr>\n",
       "    <tr>\n",
       "      <th>Julho</th>\n",
       "      <td>Julho</td>\n",
       "      <td>91701</td>\n",
       "      <td>$29,844,324,640</td>\n",
       "    </tr>\n",
       "    <tr>\n",
       "      <th>Maio</th>\n",
       "      <td>Maio</td>\n",
       "      <td>95675</td>\n",
       "      <td>$29,642,851,197</td>\n",
       "    </tr>\n",
       "    <tr>\n",
       "      <th>Março</th>\n",
       "      <td>Março</td>\n",
       "      <td>91178</td>\n",
       "      <td>$29,422,320,196</td>\n",
       "    </tr>\n",
       "    <tr>\n",
       "      <th>Abril</th>\n",
       "      <td>Abril</td>\n",
       "      <td>87694</td>\n",
       "      <td>$28,969,694,687</td>\n",
       "    </tr>\n",
       "    <tr>\n",
       "      <th>Setembro</th>\n",
       "      <td>Setembro</td>\n",
       "      <td>93166</td>\n",
       "      <td>$28,587,334,142</td>\n",
       "    </tr>\n",
       "    <tr>\n",
       "      <th>Novembro</th>\n",
       "      <td>Novembro</td>\n",
       "      <td>88488</td>\n",
       "      <td>$27,652,303,451</td>\n",
       "    </tr>\n",
       "  </tbody>\n",
       "</table>\n",
       "</div>"
      ],
      "text/plain": [
       "         principal_mes22_id  Quantidade_de_Exportacoes_no_Mes  \\\n",
       "Mes                                                             \n",
       "Junho                 Junho                             93860   \n",
       "Agosto               Agosto                             95306   \n",
       "Julho                 Julho                             91701   \n",
       "Maio                   Maio                             95675   \n",
       "Março                 Março                             91178   \n",
       "Abril                 Abril                             87694   \n",
       "Setembro           Setembro                             93166   \n",
       "Novembro           Novembro                             88488   \n",
       "\n",
       "         Valor_total_das_Exportacoes_no_Mes  \n",
       "Mes                                          \n",
       "Junho                       $32,742,194,543  \n",
       "Agosto                      $30,786,908,834  \n",
       "Julho                       $29,844,324,640  \n",
       "Maio                        $29,642,851,197  \n",
       "Março                       $29,422,320,196  \n",
       "Abril                       $28,969,694,687  \n",
       "Setembro                    $28,587,334,142  \n",
       "Novembro                    $27,652,303,451  "
      ]
     },
     "execution_count": 46,
     "metadata": {},
     "output_type": "execute_result"
    }
   ],
   "source": [
    "principal_mes22.sort_values(by='Valor_total_das_Exportacoes_no_Mes', ascending=False).head(8)"
   ]
  },
  {
   "cell_type": "markdown",
   "id": "b02f0ae7",
   "metadata": {},
   "source": [
    "#### Feito por mim, <a href=\"https://linkedin.com/in/mario-barcelos\"> Mario Barcelos! </a> "
   ]
  }
 ],
 "metadata": {
  "kernelspec": {
   "display_name": "Python 3 (ipykernel)",
   "language": "python",
   "name": "python3"
  },
  "language_info": {
   "codemirror_mode": {
    "name": "ipython",
    "version": 3
   },
   "file_extension": ".py",
   "mimetype": "text/x-python",
   "name": "python",
   "nbconvert_exporter": "python",
   "pygments_lexer": "ipython3",
   "version": "3.10.6"
  }
 },
 "nbformat": 4,
 "nbformat_minor": 5
}
